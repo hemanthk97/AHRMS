{
  "nbformat": 4,
  "nbformat_minor": 0,
  "metadata": {
    "colab": {
      "name": "performance_python.ipynb",
      "provenance": [],
      "collapsed_sections": [
        "1K1p91-yiV7n",
        "TLZt21poi5T7",
        "U9jgK5Wcjr-l",
        "8YPodJJYlxhi",
        "qNj5ygcjoB0t",
        "kUXXo7QEq73N",
        "2Cf_ycsJyw8v",
        "zPTrfDIrrZ-I",
        "aTG5XBQfs_wO",
        "8ddYcAqwtusb",
        "KL_33hvcvccV",
        "5TWXgTcky8aa",
        "hD2mWbfMzGTQ",
        "yjH8Rlwg2VLa",
        "Trm5DDF36qSc",
        "E0L2XJ4GBq31",
        "h485oneQxuuN",
        "VsRWJiQi0adC",
        "atmAWoOQ26RP",
        "MapV6WGK3m6L",
        "afii4EQC6qm6",
        "z2Q3S7zoAKpz",
        "aPc2oz-WCug7",
        "8HeRFT0kDVnl",
        "XS902F9RDtkT",
        "umZrztwDFBmM",
        "v-FPeFNKFr4v",
        "Cg1fuZ3vHOJJ",
        "PCugBxFQJynm",
        "5f5f5gFxKObd"
      ],
      "toc_visible": true,
      "authorship_tag": "ABX9TyMHhzKqQbOraq9mgpQ20wPk",
      "include_colab_link": true
    },
    "kernelspec": {
      "name": "python3",
      "display_name": "Python 3"
    }
  },
  "cells": [
    {
      "cell_type": "markdown",
      "metadata": {
        "id": "view-in-github",
        "colab_type": "text"
      },
      "source": [
        "<a href=\"https://colab.research.google.com/github/hemanthk97/AHRMS/blob/master/performance_python.ipynb\" target=\"_parent\"><img src=\"https://colab.research.google.com/assets/colab-badge.svg\" alt=\"Open In Colab\"/></a>"
      ]
    },
    {
      "cell_type": "code",
      "metadata": {
        "id": "jFRqIreri__d",
        "colab_type": "code",
        "colab": {}
      },
      "source": [
        "import random\n",
        "import numpy as np\n",
        "import numba\n",
        "import pandas as pd\n",
        "import multiprocessing as mp\n",
        "from functools import lru_cache as cache\n",
        "\n",
        "from pylab import mpl, plt\n",
        "plt.style.use('seaborn')\n",
        "mpl.rcParams['font.family'] = 'serif'\n",
        "%matplotlib inline\n",
        "\n",
        "import math\n",
        "\n",
        "files_path = 'https://raw.githubusercontent.com/yhilpisch/py4fi/master/jupyter36/source/'"
      ],
      "execution_count": 0,
      "outputs": []
    },
    {
      "cell_type": "markdown",
      "metadata": {
        "id": "1K1p91-yiV7n",
        "colab_type": "text"
      },
      "source": [
        "# **Loops**"
      ]
    },
    {
      "cell_type": "markdown",
      "metadata": {
        "id": "l1hjPhwHiYEy",
        "colab_type": "text"
      },
      "source": [
        "> This section tackles the python loop issue. The task is rather simple: a function shall be written that draws a certian \"large\" number of random numbers and returns the average of the values. The execution time is of interset, which can be estimated by the magic functions **%time** abd **%timeit**."
      ]
    },
    {
      "cell_type": "markdown",
      "metadata": {
        "id": "TLZt21poi5T7",
        "colab_type": "text"
      },
      "source": [
        "## **Python**"
      ]
    },
    {
      "cell_type": "code",
      "metadata": {
        "id": "4Go53dTojAfz",
        "colab_type": "code",
        "colab": {}
      },
      "source": [
        "def average_py(n):\n",
        "  s = 0\n",
        "  for i in range(n):\n",
        "    s += random.random()\n",
        "  return s / n"
      ],
      "execution_count": 0,
      "outputs": []
    },
    {
      "cell_type": "code",
      "metadata": {
        "id": "tnAcecnJjSVW",
        "colab_type": "code",
        "outputId": "5e11eeb8-a103-4f66-95b4-a372ba7f4d21",
        "colab": {
          "base_uri": "https://localhost:8080/",
          "height": 68
        }
      },
      "source": [
        "n = 10000000\n",
        "%time average_py(n)"
      ],
      "execution_count": 0,
      "outputs": [
        {
          "output_type": "stream",
          "text": [
            "CPU times: user 1 s, sys: 0 ns, total: 1 s\n",
            "Wall time: 1.01 s\n"
          ],
          "name": "stdout"
        },
        {
          "output_type": "execute_result",
          "data": {
            "text/plain": [
              "0.5001989118268079"
            ]
          },
          "metadata": {
            "tags": []
          },
          "execution_count": 3
        }
      ]
    },
    {
      "cell_type": "code",
      "metadata": {
        "id": "lC-lrzHDjX9Z",
        "colab_type": "code",
        "outputId": "18f11081-2435-49f3-d5c4-53333dddecbe",
        "colab": {
          "base_uri": "https://localhost:8080/",
          "height": 34
        }
      },
      "source": [
        "%timeit average_py(n)"
      ],
      "execution_count": 0,
      "outputs": [
        {
          "output_type": "stream",
          "text": [
            "1 loop, best of 3: 969 ms per loop\n"
          ],
          "name": "stdout"
        }
      ]
    },
    {
      "cell_type": "code",
      "metadata": {
        "id": "3eurrnOBjcPO",
        "colab_type": "code",
        "outputId": "25008549-7123-4e17-832f-06f3f84407a1",
        "colab": {
          "base_uri": "https://localhost:8080/",
          "height": 68
        }
      },
      "source": [
        "%time sum([random.random() for _ in range(n)]) / n"
      ],
      "execution_count": 0,
      "outputs": [
        {
          "output_type": "stream",
          "text": [
            "CPU times: user 1.23 s, sys: 253 ms, total: 1.48 s\n",
            "Wall time: 1.48 s\n"
          ],
          "name": "stdout"
        },
        {
          "output_type": "execute_result",
          "data": {
            "text/plain": [
              "0.4999224227176434"
            ]
          },
          "metadata": {
            "tags": []
          },
          "execution_count": 5
        }
      ]
    },
    {
      "cell_type": "markdown",
      "metadata": {
        "id": "U9jgK5Wcjr-l",
        "colab_type": "text"
      },
      "source": [
        "## **NumPy**"
      ]
    },
    {
      "cell_type": "markdown",
      "metadata": {
        "id": "lpHXg0NrjuYi",
        "colab_type": "text"
      },
      "source": [
        "> The strength of **NumPy** lies in its vectorization capabilities. Formally loops vanish on the python level; the looping takes place one level deeper based on optimized and compiled routines provided by **NumPy**. The function function `average_np()` make use of this approach."
      ]
    },
    {
      "cell_type": "code",
      "metadata": {
        "id": "OokszxBmjmNq",
        "colab_type": "code",
        "colab": {}
      },
      "source": [
        "def average_np(n):\n",
        "  s = np.random.random(n)\n",
        "  return s.mean()"
      ],
      "execution_count": 0,
      "outputs": []
    },
    {
      "cell_type": "code",
      "metadata": {
        "id": "8giB6G5kkatN",
        "colab_type": "code",
        "outputId": "39fcac34-ca7e-4867-d53d-66f497121c2f",
        "colab": {
          "base_uri": "https://localhost:8080/",
          "height": 68
        }
      },
      "source": [
        "%time average_np(n)"
      ],
      "execution_count": 0,
      "outputs": [
        {
          "output_type": "stream",
          "text": [
            "CPU times: user 99.1 ms, sys: 1.05 ms, total: 100 ms\n",
            "Wall time: 101 ms\n"
          ],
          "name": "stdout"
        },
        {
          "output_type": "execute_result",
          "data": {
            "text/plain": [
              "0.5000075866875175"
            ]
          },
          "metadata": {
            "tags": []
          },
          "execution_count": 17
        }
      ]
    },
    {
      "cell_type": "code",
      "metadata": {
        "id": "ygBQbyCwkcuN",
        "colab_type": "code",
        "outputId": "f167470d-dafe-4048-dce0-f7d4e56da473",
        "colab": {
          "base_uri": "https://localhost:8080/",
          "height": 34
        }
      },
      "source": [
        "%timeit average_np(n)"
      ],
      "execution_count": 0,
      "outputs": [
        {
          "output_type": "stream",
          "text": [
            "10 loops, best of 3: 97.6 ms per loop\n"
          ],
          "name": "stdout"
        }
      ]
    },
    {
      "cell_type": "code",
      "metadata": {
        "id": "EOKHxYzZkmYk",
        "colab_type": "code",
        "outputId": "0bb91717-50c1-41f9-fbd5-ab4ad1f0f8aa",
        "colab": {
          "base_uri": "https://localhost:8080/",
          "height": 34
        }
      },
      "source": [
        "s = np.random.random(n)\n",
        "s.nbytes"
      ],
      "execution_count": 0,
      "outputs": [
        {
          "output_type": "execute_result",
          "data": {
            "text/plain": [
              "80000000"
            ]
          },
          "metadata": {
            "tags": []
          },
          "execution_count": 12
        }
      ]
    },
    {
      "cell_type": "markdown",
      "metadata": {
        "id": "GAEYKXHEk5t9",
        "colab_type": "text"
      },
      "source": [
        "> The speedup is considerable, reaching almost a factor of 10 or an order of mangnitude. However, the price that must be paid is  significantly higher memory usage. This is due to the fact that **NumPy** attains speed by preallocating data that can be processed in the compiled layer. As a consquence, ther is no way, given this approach, to work with \"streamed\" data.This increased memory usage might even be prohibitively large depending on the algorithm or problem at hand."
      ]
    },
    {
      "cell_type": "markdown",
      "metadata": {
        "id": "8YPodJJYlxhi",
        "colab_type": "text"
      },
      "source": [
        "## **Numba**"
      ]
    },
    {
      "cell_type": "markdown",
      "metadata": {
        "id": "STjy84qpl0IS",
        "colab_type": "text"
      },
      "source": [
        "> **Numba** is a package that allows the *dynamic compiling* of pure python code by the use of LLVM. The application in a simple case, like the one at hand, is surprisingly straightforward and the dynamically complied function `average_nb()` can be called directly from python."
      ]
    },
    {
      "cell_type": "code",
      "metadata": {
        "id": "VhK5lMvmk39z",
        "colab_type": "code",
        "colab": {}
      },
      "source": [
        "average_nb = numba.jit(average_py) #This creates the Numba function."
      ],
      "execution_count": 0,
      "outputs": []
    },
    {
      "cell_type": "code",
      "metadata": {
        "id": "8JyX0KGsmZG2",
        "colab_type": "code",
        "outputId": "61b9ab1a-3800-48bc-c7c2-086310c21753",
        "colab": {
          "base_uri": "https://localhost:8080/",
          "height": 68
        }
      },
      "source": [
        "%time average_nb(n) # The compiling happens during runtime, leading to some overhead."
      ],
      "execution_count": 0,
      "outputs": [
        {
          "output_type": "stream",
          "text": [
            "CPU times: user 123 ms, sys: 3.93 ms, total: 127 ms\n",
            "Wall time: 127 ms\n"
          ],
          "name": "stdout"
        },
        {
          "output_type": "execute_result",
          "data": {
            "text/plain": [
              "0.4999803090041615"
            ]
          },
          "metadata": {
            "tags": []
          },
          "execution_count": 23
        }
      ]
    },
    {
      "cell_type": "code",
      "metadata": {
        "id": "wtu6vjxUmxT1",
        "colab_type": "code",
        "outputId": "c226311a-26e0-4f60-be86-e8178b0c0c71",
        "colab": {
          "base_uri": "https://localhost:8080/",
          "height": 68
        }
      },
      "source": [
        "%time average_nb(n) # From the second execution (with same input data types), the execution is faster."
      ],
      "execution_count": 0,
      "outputs": [
        {
          "output_type": "stream",
          "text": [
            "CPU times: user 67.3 ms, sys: 1.01 ms, total: 68.3 ms\n",
            "Wall time: 69.5 ms\n"
          ],
          "name": "stdout"
        },
        {
          "output_type": "execute_result",
          "data": {
            "text/plain": [
              "0.5000112575640676"
            ]
          },
          "metadata": {
            "tags": []
          },
          "execution_count": 24
        }
      ]
    },
    {
      "cell_type": "code",
      "metadata": {
        "id": "_GYcgonqmbEc",
        "colab_type": "code",
        "outputId": "79f987c2-5da2-499c-e1f3-b812db174418",
        "colab": {
          "base_uri": "https://localhost:8080/",
          "height": 34
        }
      },
      "source": [
        "%timeit average_nb(n)"
      ],
      "execution_count": 0,
      "outputs": [
        {
          "output_type": "stream",
          "text": [
            "10 loops, best of 3: 60.1 ms per loop\n"
          ],
          "name": "stdout"
        }
      ]
    },
    {
      "cell_type": "markdown",
      "metadata": {
        "id": "PkrvrmkYnPPU",
        "colab_type": "text"
      },
      "source": [
        "> The combination of pure Python with **Numba** beats the **NumPy** version and preserves the memory effiency of the original loop-based implmentation. It is also obvious that the application of **Numba** in such simple cases comes with hardly any programming overhead."
      ]
    },
    {
      "cell_type": "markdown",
      "metadata": {
        "id": "qNj5ygcjoB0t",
        "colab_type": "text"
      },
      "source": [
        "## **Cython**"
      ]
    },
    {
      "cell_type": "markdown",
      "metadata": {
        "id": "WEVl-z6EoDc7",
        "colab_type": "text"
      },
      "source": [
        "> **Cython** allows one to *statically compile* python code. However, the application is not as simple as with **Numba** since the code generally needs to be changed the **Cython** function `average_cy1()`, which introduces static type declarations for the used variables."
      ]
    },
    {
      "cell_type": "code",
      "metadata": {
        "id": "7KCX7s4TmufR",
        "colab_type": "code",
        "outputId": "a4b11e2b-b5e5-41f2-e17c-154bcc6b62ad",
        "colab": {
          "base_uri": "https://localhost:8080/",
          "height": 51
        }
      },
      "source": [
        "%load_ext Cython"
      ],
      "execution_count": 0,
      "outputs": [
        {
          "output_type": "stream",
          "text": [
            "The Cython extension is already loaded. To reload it, use:\n",
            "  %reload_ext Cython\n"
          ],
          "name": "stdout"
        }
      ]
    },
    {
      "cell_type": "code",
      "metadata": {
        "id": "t9T5knmDokB4",
        "colab_type": "code",
        "outputId": "ffdaecca-7090-4c73-93fe-ad3d4e942a35",
        "colab": {
          "base_uri": "https://localhost:8080/",
          "height": 205
        }
      },
      "source": [
        "%%cython -a\n",
        "import random\n",
        "def average_cy1(int n):\n",
        "  cdef int i\n",
        "  cdef float s = 0\n",
        "  for i in range(n):\n",
        "    s += random.random()\n",
        "  return s/n"
      ],
      "execution_count": 0,
      "outputs": [
        {
          "output_type": "execute_result",
          "data": {
            "text/html": [
              "<!DOCTYPE html>\n",
              "<!-- Generated by Cython 0.29.16 -->\n",
              "<html>\n",
              "<head>\n",
              "    <meta http-equiv=\"Content-Type\" content=\"text/html; charset=utf-8\" />\n",
              "    <title>Cython: _cython_magic_41b8d48ecb9e0188fe965251dc59a1b9.pyx</title>\n",
              "    <style type=\"text/css\">\n",
              "    \n",
              "body.cython { font-family: courier; font-size: 12; }\n",
              "\n",
              ".cython.tag  {  }\n",
              ".cython.line { margin: 0em }\n",
              ".cython.code { font-size: 9; color: #444444; display: none; margin: 0px 0px 0px 8px; border-left: 8px none; }\n",
              "\n",
              ".cython.line .run { background-color: #B0FFB0; }\n",
              ".cython.line .mis { background-color: #FFB0B0; }\n",
              ".cython.code.run  { border-left: 8px solid #B0FFB0; }\n",
              ".cython.code.mis  { border-left: 8px solid #FFB0B0; }\n",
              "\n",
              ".cython.code .py_c_api  { color: red; }\n",
              ".cython.code .py_macro_api  { color: #FF7000; }\n",
              ".cython.code .pyx_c_api  { color: #FF3000; }\n",
              ".cython.code .pyx_macro_api  { color: #FF7000; }\n",
              ".cython.code .refnanny  { color: #FFA000; }\n",
              ".cython.code .trace  { color: #FFA000; }\n",
              ".cython.code .error_goto  { color: #FFA000; }\n",
              "\n",
              ".cython.code .coerce  { color: #008000; border: 1px dotted #008000 }\n",
              ".cython.code .py_attr { color: #FF0000; font-weight: bold; }\n",
              ".cython.code .c_attr  { color: #0000FF; }\n",
              ".cython.code .py_call { color: #FF0000; font-weight: bold; }\n",
              ".cython.code .c_call  { color: #0000FF; }\n",
              "\n",
              ".cython.score-0 {background-color: #FFFFff;}\n",
              ".cython.score-1 {background-color: #FFFFe7;}\n",
              ".cython.score-2 {background-color: #FFFFd4;}\n",
              ".cython.score-3 {background-color: #FFFFc4;}\n",
              ".cython.score-4 {background-color: #FFFFb6;}\n",
              ".cython.score-5 {background-color: #FFFFaa;}\n",
              ".cython.score-6 {background-color: #FFFF9f;}\n",
              ".cython.score-7 {background-color: #FFFF96;}\n",
              ".cython.score-8 {background-color: #FFFF8d;}\n",
              ".cython.score-9 {background-color: #FFFF86;}\n",
              ".cython.score-10 {background-color: #FFFF7f;}\n",
              ".cython.score-11 {background-color: #FFFF79;}\n",
              ".cython.score-12 {background-color: #FFFF73;}\n",
              ".cython.score-13 {background-color: #FFFF6e;}\n",
              ".cython.score-14 {background-color: #FFFF6a;}\n",
              ".cython.score-15 {background-color: #FFFF66;}\n",
              ".cython.score-16 {background-color: #FFFF62;}\n",
              ".cython.score-17 {background-color: #FFFF5e;}\n",
              ".cython.score-18 {background-color: #FFFF5b;}\n",
              ".cython.score-19 {background-color: #FFFF57;}\n",
              ".cython.score-20 {background-color: #FFFF55;}\n",
              ".cython.score-21 {background-color: #FFFF52;}\n",
              ".cython.score-22 {background-color: #FFFF4f;}\n",
              ".cython.score-23 {background-color: #FFFF4d;}\n",
              ".cython.score-24 {background-color: #FFFF4b;}\n",
              ".cython.score-25 {background-color: #FFFF48;}\n",
              ".cython.score-26 {background-color: #FFFF46;}\n",
              ".cython.score-27 {background-color: #FFFF44;}\n",
              ".cython.score-28 {background-color: #FFFF43;}\n",
              ".cython.score-29 {background-color: #FFFF41;}\n",
              ".cython.score-30 {background-color: #FFFF3f;}\n",
              ".cython.score-31 {background-color: #FFFF3e;}\n",
              ".cython.score-32 {background-color: #FFFF3c;}\n",
              ".cython.score-33 {background-color: #FFFF3b;}\n",
              ".cython.score-34 {background-color: #FFFF39;}\n",
              ".cython.score-35 {background-color: #FFFF38;}\n",
              ".cython.score-36 {background-color: #FFFF37;}\n",
              ".cython.score-37 {background-color: #FFFF36;}\n",
              ".cython.score-38 {background-color: #FFFF35;}\n",
              ".cython.score-39 {background-color: #FFFF34;}\n",
              ".cython.score-40 {background-color: #FFFF33;}\n",
              ".cython.score-41 {background-color: #FFFF32;}\n",
              ".cython.score-42 {background-color: #FFFF31;}\n",
              ".cython.score-43 {background-color: #FFFF30;}\n",
              ".cython.score-44 {background-color: #FFFF2f;}\n",
              ".cython.score-45 {background-color: #FFFF2e;}\n",
              ".cython.score-46 {background-color: #FFFF2d;}\n",
              ".cython.score-47 {background-color: #FFFF2c;}\n",
              ".cython.score-48 {background-color: #FFFF2b;}\n",
              ".cython.score-49 {background-color: #FFFF2b;}\n",
              ".cython.score-50 {background-color: #FFFF2a;}\n",
              ".cython.score-51 {background-color: #FFFF29;}\n",
              ".cython.score-52 {background-color: #FFFF29;}\n",
              ".cython.score-53 {background-color: #FFFF28;}\n",
              ".cython.score-54 {background-color: #FFFF27;}\n",
              ".cython.score-55 {background-color: #FFFF27;}\n",
              ".cython.score-56 {background-color: #FFFF26;}\n",
              ".cython.score-57 {background-color: #FFFF26;}\n",
              ".cython.score-58 {background-color: #FFFF25;}\n",
              ".cython.score-59 {background-color: #FFFF24;}\n",
              ".cython.score-60 {background-color: #FFFF24;}\n",
              ".cython.score-61 {background-color: #FFFF23;}\n",
              ".cython.score-62 {background-color: #FFFF23;}\n",
              ".cython.score-63 {background-color: #FFFF22;}\n",
              ".cython.score-64 {background-color: #FFFF22;}\n",
              ".cython.score-65 {background-color: #FFFF22;}\n",
              ".cython.score-66 {background-color: #FFFF21;}\n",
              ".cython.score-67 {background-color: #FFFF21;}\n",
              ".cython.score-68 {background-color: #FFFF20;}\n",
              ".cython.score-69 {background-color: #FFFF20;}\n",
              ".cython.score-70 {background-color: #FFFF1f;}\n",
              ".cython.score-71 {background-color: #FFFF1f;}\n",
              ".cython.score-72 {background-color: #FFFF1f;}\n",
              ".cython.score-73 {background-color: #FFFF1e;}\n",
              ".cython.score-74 {background-color: #FFFF1e;}\n",
              ".cython.score-75 {background-color: #FFFF1e;}\n",
              ".cython.score-76 {background-color: #FFFF1d;}\n",
              ".cython.score-77 {background-color: #FFFF1d;}\n",
              ".cython.score-78 {background-color: #FFFF1c;}\n",
              ".cython.score-79 {background-color: #FFFF1c;}\n",
              ".cython.score-80 {background-color: #FFFF1c;}\n",
              ".cython.score-81 {background-color: #FFFF1c;}\n",
              ".cython.score-82 {background-color: #FFFF1b;}\n",
              ".cython.score-83 {background-color: #FFFF1b;}\n",
              ".cython.score-84 {background-color: #FFFF1b;}\n",
              ".cython.score-85 {background-color: #FFFF1a;}\n",
              ".cython.score-86 {background-color: #FFFF1a;}\n",
              ".cython.score-87 {background-color: #FFFF1a;}\n",
              ".cython.score-88 {background-color: #FFFF1a;}\n",
              ".cython.score-89 {background-color: #FFFF19;}\n",
              ".cython.score-90 {background-color: #FFFF19;}\n",
              ".cython.score-91 {background-color: #FFFF19;}\n",
              ".cython.score-92 {background-color: #FFFF19;}\n",
              ".cython.score-93 {background-color: #FFFF18;}\n",
              ".cython.score-94 {background-color: #FFFF18;}\n",
              ".cython.score-95 {background-color: #FFFF18;}\n",
              ".cython.score-96 {background-color: #FFFF18;}\n",
              ".cython.score-97 {background-color: #FFFF17;}\n",
              ".cython.score-98 {background-color: #FFFF17;}\n",
              ".cython.score-99 {background-color: #FFFF17;}\n",
              ".cython.score-100 {background-color: #FFFF17;}\n",
              ".cython.score-101 {background-color: #FFFF16;}\n",
              ".cython.score-102 {background-color: #FFFF16;}\n",
              ".cython.score-103 {background-color: #FFFF16;}\n",
              ".cython.score-104 {background-color: #FFFF16;}\n",
              ".cython.score-105 {background-color: #FFFF16;}\n",
              ".cython.score-106 {background-color: #FFFF15;}\n",
              ".cython.score-107 {background-color: #FFFF15;}\n",
              ".cython.score-108 {background-color: #FFFF15;}\n",
              ".cython.score-109 {background-color: #FFFF15;}\n",
              ".cython.score-110 {background-color: #FFFF15;}\n",
              ".cython.score-111 {background-color: #FFFF15;}\n",
              ".cython.score-112 {background-color: #FFFF14;}\n",
              ".cython.score-113 {background-color: #FFFF14;}\n",
              ".cython.score-114 {background-color: #FFFF14;}\n",
              ".cython.score-115 {background-color: #FFFF14;}\n",
              ".cython.score-116 {background-color: #FFFF14;}\n",
              ".cython.score-117 {background-color: #FFFF14;}\n",
              ".cython.score-118 {background-color: #FFFF13;}\n",
              ".cython.score-119 {background-color: #FFFF13;}\n",
              ".cython.score-120 {background-color: #FFFF13;}\n",
              ".cython.score-121 {background-color: #FFFF13;}\n",
              ".cython.score-122 {background-color: #FFFF13;}\n",
              ".cython.score-123 {background-color: #FFFF13;}\n",
              ".cython.score-124 {background-color: #FFFF13;}\n",
              ".cython.score-125 {background-color: #FFFF12;}\n",
              ".cython.score-126 {background-color: #FFFF12;}\n",
              ".cython.score-127 {background-color: #FFFF12;}\n",
              ".cython.score-128 {background-color: #FFFF12;}\n",
              ".cython.score-129 {background-color: #FFFF12;}\n",
              ".cython.score-130 {background-color: #FFFF12;}\n",
              ".cython.score-131 {background-color: #FFFF12;}\n",
              ".cython.score-132 {background-color: #FFFF11;}\n",
              ".cython.score-133 {background-color: #FFFF11;}\n",
              ".cython.score-134 {background-color: #FFFF11;}\n",
              ".cython.score-135 {background-color: #FFFF11;}\n",
              ".cython.score-136 {background-color: #FFFF11;}\n",
              ".cython.score-137 {background-color: #FFFF11;}\n",
              ".cython.score-138 {background-color: #FFFF11;}\n",
              ".cython.score-139 {background-color: #FFFF11;}\n",
              ".cython.score-140 {background-color: #FFFF11;}\n",
              ".cython.score-141 {background-color: #FFFF10;}\n",
              ".cython.score-142 {background-color: #FFFF10;}\n",
              ".cython.score-143 {background-color: #FFFF10;}\n",
              ".cython.score-144 {background-color: #FFFF10;}\n",
              ".cython.score-145 {background-color: #FFFF10;}\n",
              ".cython.score-146 {background-color: #FFFF10;}\n",
              ".cython.score-147 {background-color: #FFFF10;}\n",
              ".cython.score-148 {background-color: #FFFF10;}\n",
              ".cython.score-149 {background-color: #FFFF10;}\n",
              ".cython.score-150 {background-color: #FFFF0f;}\n",
              ".cython.score-151 {background-color: #FFFF0f;}\n",
              ".cython.score-152 {background-color: #FFFF0f;}\n",
              ".cython.score-153 {background-color: #FFFF0f;}\n",
              ".cython.score-154 {background-color: #FFFF0f;}\n",
              ".cython.score-155 {background-color: #FFFF0f;}\n",
              ".cython.score-156 {background-color: #FFFF0f;}\n",
              ".cython.score-157 {background-color: #FFFF0f;}\n",
              ".cython.score-158 {background-color: #FFFF0f;}\n",
              ".cython.score-159 {background-color: #FFFF0f;}\n",
              ".cython.score-160 {background-color: #FFFF0f;}\n",
              ".cython.score-161 {background-color: #FFFF0e;}\n",
              ".cython.score-162 {background-color: #FFFF0e;}\n",
              ".cython.score-163 {background-color: #FFFF0e;}\n",
              ".cython.score-164 {background-color: #FFFF0e;}\n",
              ".cython.score-165 {background-color: #FFFF0e;}\n",
              ".cython.score-166 {background-color: #FFFF0e;}\n",
              ".cython.score-167 {background-color: #FFFF0e;}\n",
              ".cython.score-168 {background-color: #FFFF0e;}\n",
              ".cython.score-169 {background-color: #FFFF0e;}\n",
              ".cython.score-170 {background-color: #FFFF0e;}\n",
              ".cython.score-171 {background-color: #FFFF0e;}\n",
              ".cython.score-172 {background-color: #FFFF0e;}\n",
              ".cython.score-173 {background-color: #FFFF0d;}\n",
              ".cython.score-174 {background-color: #FFFF0d;}\n",
              ".cython.score-175 {background-color: #FFFF0d;}\n",
              ".cython.score-176 {background-color: #FFFF0d;}\n",
              ".cython.score-177 {background-color: #FFFF0d;}\n",
              ".cython.score-178 {background-color: #FFFF0d;}\n",
              ".cython.score-179 {background-color: #FFFF0d;}\n",
              ".cython.score-180 {background-color: #FFFF0d;}\n",
              ".cython.score-181 {background-color: #FFFF0d;}\n",
              ".cython.score-182 {background-color: #FFFF0d;}\n",
              ".cython.score-183 {background-color: #FFFF0d;}\n",
              ".cython.score-184 {background-color: #FFFF0d;}\n",
              ".cython.score-185 {background-color: #FFFF0d;}\n",
              ".cython.score-186 {background-color: #FFFF0d;}\n",
              ".cython.score-187 {background-color: #FFFF0c;}\n",
              ".cython.score-188 {background-color: #FFFF0c;}\n",
              ".cython.score-189 {background-color: #FFFF0c;}\n",
              ".cython.score-190 {background-color: #FFFF0c;}\n",
              ".cython.score-191 {background-color: #FFFF0c;}\n",
              ".cython.score-192 {background-color: #FFFF0c;}\n",
              ".cython.score-193 {background-color: #FFFF0c;}\n",
              ".cython.score-194 {background-color: #FFFF0c;}\n",
              ".cython.score-195 {background-color: #FFFF0c;}\n",
              ".cython.score-196 {background-color: #FFFF0c;}\n",
              ".cython.score-197 {background-color: #FFFF0c;}\n",
              ".cython.score-198 {background-color: #FFFF0c;}\n",
              ".cython.score-199 {background-color: #FFFF0c;}\n",
              ".cython.score-200 {background-color: #FFFF0c;}\n",
              ".cython.score-201 {background-color: #FFFF0c;}\n",
              ".cython.score-202 {background-color: #FFFF0c;}\n",
              ".cython.score-203 {background-color: #FFFF0b;}\n",
              ".cython.score-204 {background-color: #FFFF0b;}\n",
              ".cython.score-205 {background-color: #FFFF0b;}\n",
              ".cython.score-206 {background-color: #FFFF0b;}\n",
              ".cython.score-207 {background-color: #FFFF0b;}\n",
              ".cython.score-208 {background-color: #FFFF0b;}\n",
              ".cython.score-209 {background-color: #FFFF0b;}\n",
              ".cython.score-210 {background-color: #FFFF0b;}\n",
              ".cython.score-211 {background-color: #FFFF0b;}\n",
              ".cython.score-212 {background-color: #FFFF0b;}\n",
              ".cython.score-213 {background-color: #FFFF0b;}\n",
              ".cython.score-214 {background-color: #FFFF0b;}\n",
              ".cython.score-215 {background-color: #FFFF0b;}\n",
              ".cython.score-216 {background-color: #FFFF0b;}\n",
              ".cython.score-217 {background-color: #FFFF0b;}\n",
              ".cython.score-218 {background-color: #FFFF0b;}\n",
              ".cython.score-219 {background-color: #FFFF0b;}\n",
              ".cython.score-220 {background-color: #FFFF0b;}\n",
              ".cython.score-221 {background-color: #FFFF0b;}\n",
              ".cython.score-222 {background-color: #FFFF0a;}\n",
              ".cython.score-223 {background-color: #FFFF0a;}\n",
              ".cython.score-224 {background-color: #FFFF0a;}\n",
              ".cython.score-225 {background-color: #FFFF0a;}\n",
              ".cython.score-226 {background-color: #FFFF0a;}\n",
              ".cython.score-227 {background-color: #FFFF0a;}\n",
              ".cython.score-228 {background-color: #FFFF0a;}\n",
              ".cython.score-229 {background-color: #FFFF0a;}\n",
              ".cython.score-230 {background-color: #FFFF0a;}\n",
              ".cython.score-231 {background-color: #FFFF0a;}\n",
              ".cython.score-232 {background-color: #FFFF0a;}\n",
              ".cython.score-233 {background-color: #FFFF0a;}\n",
              ".cython.score-234 {background-color: #FFFF0a;}\n",
              ".cython.score-235 {background-color: #FFFF0a;}\n",
              ".cython.score-236 {background-color: #FFFF0a;}\n",
              ".cython.score-237 {background-color: #FFFF0a;}\n",
              ".cython.score-238 {background-color: #FFFF0a;}\n",
              ".cython.score-239 {background-color: #FFFF0a;}\n",
              ".cython.score-240 {background-color: #FFFF0a;}\n",
              ".cython.score-241 {background-color: #FFFF0a;}\n",
              ".cython.score-242 {background-color: #FFFF0a;}\n",
              ".cython.score-243 {background-color: #FFFF0a;}\n",
              ".cython.score-244 {background-color: #FFFF0a;}\n",
              ".cython.score-245 {background-color: #FFFF0a;}\n",
              ".cython.score-246 {background-color: #FFFF09;}\n",
              ".cython.score-247 {background-color: #FFFF09;}\n",
              ".cython.score-248 {background-color: #FFFF09;}\n",
              ".cython.score-249 {background-color: #FFFF09;}\n",
              ".cython.score-250 {background-color: #FFFF09;}\n",
              ".cython.score-251 {background-color: #FFFF09;}\n",
              ".cython.score-252 {background-color: #FFFF09;}\n",
              ".cython.score-253 {background-color: #FFFF09;}\n",
              ".cython.score-254 {background-color: #FFFF09;}\n",
              ".cython .hll { background-color: #ffffcc }\n",
              ".cython  { background: #f8f8f8; }\n",
              ".cython .c { color: #408080; font-style: italic } /* Comment */\n",
              ".cython .err { border: 1px solid #FF0000 } /* Error */\n",
              ".cython .k { color: #008000; font-weight: bold } /* Keyword */\n",
              ".cython .o { color: #666666 } /* Operator */\n",
              ".cython .ch { color: #408080; font-style: italic } /* Comment.Hashbang */\n",
              ".cython .cm { color: #408080; font-style: italic } /* Comment.Multiline */\n",
              ".cython .cp { color: #BC7A00 } /* Comment.Preproc */\n",
              ".cython .cpf { color: #408080; font-style: italic } /* Comment.PreprocFile */\n",
              ".cython .c1 { color: #408080; font-style: italic } /* Comment.Single */\n",
              ".cython .cs { color: #408080; font-style: italic } /* Comment.Special */\n",
              ".cython .gd { color: #A00000 } /* Generic.Deleted */\n",
              ".cython .ge { font-style: italic } /* Generic.Emph */\n",
              ".cython .gr { color: #FF0000 } /* Generic.Error */\n",
              ".cython .gh { color: #000080; font-weight: bold } /* Generic.Heading */\n",
              ".cython .gi { color: #00A000 } /* Generic.Inserted */\n",
              ".cython .go { color: #888888 } /* Generic.Output */\n",
              ".cython .gp { color: #000080; font-weight: bold } /* Generic.Prompt */\n",
              ".cython .gs { font-weight: bold } /* Generic.Strong */\n",
              ".cython .gu { color: #800080; font-weight: bold } /* Generic.Subheading */\n",
              ".cython .gt { color: #0044DD } /* Generic.Traceback */\n",
              ".cython .kc { color: #008000; font-weight: bold } /* Keyword.Constant */\n",
              ".cython .kd { color: #008000; font-weight: bold } /* Keyword.Declaration */\n",
              ".cython .kn { color: #008000; font-weight: bold } /* Keyword.Namespace */\n",
              ".cython .kp { color: #008000 } /* Keyword.Pseudo */\n",
              ".cython .kr { color: #008000; font-weight: bold } /* Keyword.Reserved */\n",
              ".cython .kt { color: #B00040 } /* Keyword.Type */\n",
              ".cython .m { color: #666666 } /* Literal.Number */\n",
              ".cython .s { color: #BA2121 } /* Literal.String */\n",
              ".cython .na { color: #7D9029 } /* Name.Attribute */\n",
              ".cython .nb { color: #008000 } /* Name.Builtin */\n",
              ".cython .nc { color: #0000FF; font-weight: bold } /* Name.Class */\n",
              ".cython .no { color: #880000 } /* Name.Constant */\n",
              ".cython .nd { color: #AA22FF } /* Name.Decorator */\n",
              ".cython .ni { color: #999999; font-weight: bold } /* Name.Entity */\n",
              ".cython .ne { color: #D2413A; font-weight: bold } /* Name.Exception */\n",
              ".cython .nf { color: #0000FF } /* Name.Function */\n",
              ".cython .nl { color: #A0A000 } /* Name.Label */\n",
              ".cython .nn { color: #0000FF; font-weight: bold } /* Name.Namespace */\n",
              ".cython .nt { color: #008000; font-weight: bold } /* Name.Tag */\n",
              ".cython .nv { color: #19177C } /* Name.Variable */\n",
              ".cython .ow { color: #AA22FF; font-weight: bold } /* Operator.Word */\n",
              ".cython .w { color: #bbbbbb } /* Text.Whitespace */\n",
              ".cython .mb { color: #666666 } /* Literal.Number.Bin */\n",
              ".cython .mf { color: #666666 } /* Literal.Number.Float */\n",
              ".cython .mh { color: #666666 } /* Literal.Number.Hex */\n",
              ".cython .mi { color: #666666 } /* Literal.Number.Integer */\n",
              ".cython .mo { color: #666666 } /* Literal.Number.Oct */\n",
              ".cython .sb { color: #BA2121 } /* Literal.String.Backtick */\n",
              ".cython .sc { color: #BA2121 } /* Literal.String.Char */\n",
              ".cython .sd { color: #BA2121; font-style: italic } /* Literal.String.Doc */\n",
              ".cython .s2 { color: #BA2121 } /* Literal.String.Double */\n",
              ".cython .se { color: #BB6622; font-weight: bold } /* Literal.String.Escape */\n",
              ".cython .sh { color: #BA2121 } /* Literal.String.Heredoc */\n",
              ".cython .si { color: #BB6688; font-weight: bold } /* Literal.String.Interpol */\n",
              ".cython .sx { color: #008000 } /* Literal.String.Other */\n",
              ".cython .sr { color: #BB6688 } /* Literal.String.Regex */\n",
              ".cython .s1 { color: #BA2121 } /* Literal.String.Single */\n",
              ".cython .ss { color: #19177C } /* Literal.String.Symbol */\n",
              ".cython .bp { color: #008000 } /* Name.Builtin.Pseudo */\n",
              ".cython .vc { color: #19177C } /* Name.Variable.Class */\n",
              ".cython .vg { color: #19177C } /* Name.Variable.Global */\n",
              ".cython .vi { color: #19177C } /* Name.Variable.Instance */\n",
              ".cython .il { color: #666666 } /* Literal.Number.Integer.Long */\n",
              "    </style>\n",
              "</head>\n",
              "<body class=\"cython\">\n",
              "<p><span style=\"border-bottom: solid 1px grey;\">Generated by Cython 0.29.16</span></p>\n",
              "<p>\n",
              "    <span style=\"background-color: #FFFF00\">Yellow lines</span> hint at Python interaction.<br />\n",
              "    Click on a line that starts with a \"<code>+</code>\" to see the C code that Cython generated for it.\n",
              "</p>\n",
              "<div class=\"cython\"><pre class=\"cython line score-8\" onclick=\"(function(s){s.display=s.display==='block'?'none':'block'})(this.nextElementSibling.style)\">+<span class=\"\">1</span>: <span class=\"k\">import</span> <span class=\"nn\">random</span></pre>\n",
              "<pre class='cython code score-8 '>  __pyx_t_1 = <span class='pyx_c_api'>__Pyx_Import</span>(__pyx_n_s_random, 0, 0);<span class='error_goto'> if (unlikely(!__pyx_t_1)) __PYX_ERR(0, 1, __pyx_L1_error)</span>\n",
              "  <span class='refnanny'>__Pyx_GOTREF</span>(__pyx_t_1);\n",
              "  if (<span class='py_c_api'>PyDict_SetItem</span>(__pyx_d, __pyx_n_s_random, __pyx_t_1) &lt; 0) <span class='error_goto'>__PYX_ERR(0, 1, __pyx_L1_error)</span>\n",
              "  <span class='pyx_macro_api'>__Pyx_DECREF</span>(__pyx_t_1); __pyx_t_1 = 0;\n",
              "</pre><pre class=\"cython line score-26\" onclick=\"(function(s){s.display=s.display==='block'?'none':'block'})(this.nextElementSibling.style)\">+<span class=\"\">2</span>: <span class=\"k\">def</span> <span class=\"nf\">average_cy1</span><span class=\"p\">(</span><span class=\"nb\">int</span> <span class=\"n\">n</span><span class=\"p\">):</span></pre>\n",
              "<pre class='cython code score-26 '>/* Python wrapper */\n",
              "static PyObject *__pyx_pw_46_cython_magic_41b8d48ecb9e0188fe965251dc59a1b9_1average_cy1(PyObject *__pyx_self, PyObject *__pyx_arg_n); /*proto*/\n",
              "static PyMethodDef __pyx_mdef_46_cython_magic_41b8d48ecb9e0188fe965251dc59a1b9_1average_cy1 = {\"average_cy1\", (PyCFunction)__pyx_pw_46_cython_magic_41b8d48ecb9e0188fe965251dc59a1b9_1average_cy1, METH_O, 0};\n",
              "static PyObject *__pyx_pw_46_cython_magic_41b8d48ecb9e0188fe965251dc59a1b9_1average_cy1(PyObject *__pyx_self, PyObject *__pyx_arg_n) {\n",
              "  int __pyx_v_n;\n",
              "  PyObject *__pyx_r = 0;\n",
              "  <span class='refnanny'>__Pyx_RefNannyDeclarations</span>\n",
              "  <span class='refnanny'>__Pyx_RefNannySetupContext</span>(\"average_cy1 (wrapper)\", 0);\n",
              "  assert(__pyx_arg_n); {\n",
              "    __pyx_v_n = <span class='pyx_c_api'>__Pyx_PyInt_As_int</span>(__pyx_arg_n); if (unlikely((__pyx_v_n == (int)-1) &amp;&amp; <span class='py_c_api'>PyErr_Occurred</span>())) <span class='error_goto'>__PYX_ERR(0, 2, __pyx_L3_error)</span>\n",
              "  }\n",
              "  goto __pyx_L4_argument_unpacking_done;\n",
              "  __pyx_L3_error:;\n",
              "  <span class='pyx_c_api'>__Pyx_AddTraceback</span>(\"_cython_magic_41b8d48ecb9e0188fe965251dc59a1b9.average_cy1\", __pyx_clineno, __pyx_lineno, __pyx_filename);\n",
              "  <span class='refnanny'>__Pyx_RefNannyFinishContext</span>();\n",
              "  return NULL;\n",
              "  __pyx_L4_argument_unpacking_done:;\n",
              "  __pyx_r = __pyx_pf_46_cython_magic_41b8d48ecb9e0188fe965251dc59a1b9_average_cy1(__pyx_self, ((int)__pyx_v_n));\n",
              "\n",
              "  /* function exit code */\n",
              "  <span class='refnanny'>__Pyx_RefNannyFinishContext</span>();\n",
              "  return __pyx_r;\n",
              "}\n",
              "\n",
              "static PyObject *__pyx_pf_46_cython_magic_41b8d48ecb9e0188fe965251dc59a1b9_average_cy1(CYTHON_UNUSED PyObject *__pyx_self, int __pyx_v_n) {\n",
              "  CYTHON_UNUSED int __pyx_v_i;\n",
              "  float __pyx_v_s;\n",
              "  PyObject *__pyx_r = NULL;\n",
              "  <span class='refnanny'>__Pyx_RefNannyDeclarations</span>\n",
              "  <span class='refnanny'>__Pyx_RefNannySetupContext</span>(\"average_cy1\", 0);\n",
              "/* … */\n",
              "  /* function exit code */\n",
              "  __pyx_L1_error:;\n",
              "  <span class='pyx_macro_api'>__Pyx_XDECREF</span>(__pyx_t_4);\n",
              "  <span class='pyx_macro_api'>__Pyx_XDECREF</span>(__pyx_t_5);\n",
              "  <span class='pyx_macro_api'>__Pyx_XDECREF</span>(__pyx_t_6);\n",
              "  <span class='pyx_macro_api'>__Pyx_XDECREF</span>(__pyx_t_7);\n",
              "  <span class='pyx_c_api'>__Pyx_AddTraceback</span>(\"_cython_magic_41b8d48ecb9e0188fe965251dc59a1b9.average_cy1\", __pyx_clineno, __pyx_lineno, __pyx_filename);\n",
              "  __pyx_r = NULL;\n",
              "  __pyx_L0:;\n",
              "  <span class='refnanny'>__Pyx_XGIVEREF</span>(__pyx_r);\n",
              "  <span class='refnanny'>__Pyx_RefNannyFinishContext</span>();\n",
              "  return __pyx_r;\n",
              "}\n",
              "/* … */\n",
              "  __pyx_tuple_ = <span class='py_c_api'>PyTuple_Pack</span>(4, __pyx_n_s_n, __pyx_n_s_n, __pyx_n_s_i, __pyx_n_s_s);<span class='error_goto'> if (unlikely(!__pyx_tuple_)) __PYX_ERR(0, 2, __pyx_L1_error)</span>\n",
              "  <span class='refnanny'>__Pyx_GOTREF</span>(__pyx_tuple_);\n",
              "  <span class='refnanny'>__Pyx_GIVEREF</span>(__pyx_tuple_);\n",
              "/* … */\n",
              "  __pyx_t_1 = PyCFunction_NewEx(&amp;__pyx_mdef_46_cython_magic_41b8d48ecb9e0188fe965251dc59a1b9_1average_cy1, NULL, __pyx_n_s_cython_magic_41b8d48ecb9e0188fe);<span class='error_goto'> if (unlikely(!__pyx_t_1)) __PYX_ERR(0, 2, __pyx_L1_error)</span>\n",
              "  <span class='refnanny'>__Pyx_GOTREF</span>(__pyx_t_1);\n",
              "  if (<span class='py_c_api'>PyDict_SetItem</span>(__pyx_d, __pyx_n_s_average_cy1, __pyx_t_1) &lt; 0) <span class='error_goto'>__PYX_ERR(0, 2, __pyx_L1_error)</span>\n",
              "  <span class='pyx_macro_api'>__Pyx_DECREF</span>(__pyx_t_1); __pyx_t_1 = 0;\n",
              "</pre><pre class=\"cython line score-0\">&#xA0;<span class=\"\">3</span>:   <span class=\"k\">cdef</span> <span class=\"kt\">int</span> <span class=\"nf\">i</span></pre>\n",
              "<pre class=\"cython line score-0\" onclick=\"(function(s){s.display=s.display==='block'?'none':'block'})(this.nextElementSibling.style)\">+<span class=\"\">4</span>:   <span class=\"k\">cdef</span> <span class=\"kt\">float</span> <span class=\"nf\">s</span> <span class=\"o\">=</span> <span class=\"mf\">0</span></pre>\n",
              "<pre class='cython code score-0 '>  __pyx_v_s = 0.0;\n",
              "</pre><pre class=\"cython line score-0\" onclick=\"(function(s){s.display=s.display==='block'?'none':'block'})(this.nextElementSibling.style)\">+<span class=\"\">5</span>:   <span class=\"k\">for</span> <span class=\"n\">i</span> <span class=\"ow\">in</span> <span class=\"nb\">range</span><span class=\"p\">(</span><span class=\"n\">n</span><span class=\"p\">):</span></pre>\n",
              "<pre class='cython code score-0 '>  __pyx_t_1 = __pyx_v_n;\n",
              "  __pyx_t_2 = __pyx_t_1;\n",
              "  for (__pyx_t_3 = 0; __pyx_t_3 &lt; __pyx_t_2; __pyx_t_3+=1) {\n",
              "    __pyx_v_i = __pyx_t_3;\n",
              "</pre><pre class=\"cython line score-44\" onclick=\"(function(s){s.display=s.display==='block'?'none':'block'})(this.nextElementSibling.style)\">+<span class=\"\">6</span>:     <span class=\"n\">s</span> <span class=\"o\">+=</span> <span class=\"n\">random</span><span class=\"o\">.</span><span class=\"n\">random</span><span class=\"p\">()</span></pre>\n",
              "<pre class='cython code score-44 '>    __pyx_t_4 = <span class='py_c_api'>PyFloat_FromDouble</span>(__pyx_v_s);<span class='error_goto'> if (unlikely(!__pyx_t_4)) __PYX_ERR(0, 6, __pyx_L1_error)</span>\n",
              "    <span class='refnanny'>__Pyx_GOTREF</span>(__pyx_t_4);\n",
              "    <span class='pyx_c_api'>__Pyx_GetModuleGlobalName</span>(__pyx_t_6, __pyx_n_s_random);<span class='error_goto'> if (unlikely(!__pyx_t_6)) __PYX_ERR(0, 6, __pyx_L1_error)</span>\n",
              "    <span class='refnanny'>__Pyx_GOTREF</span>(__pyx_t_6);\n",
              "    __pyx_t_7 = <span class='pyx_c_api'>__Pyx_PyObject_GetAttrStr</span>(__pyx_t_6, __pyx_n_s_random);<span class='error_goto'> if (unlikely(!__pyx_t_7)) __PYX_ERR(0, 6, __pyx_L1_error)</span>\n",
              "    <span class='refnanny'>__Pyx_GOTREF</span>(__pyx_t_7);\n",
              "    <span class='pyx_macro_api'>__Pyx_DECREF</span>(__pyx_t_6); __pyx_t_6 = 0;\n",
              "    __pyx_t_6 = NULL;\n",
              "    if (CYTHON_UNPACK_METHODS &amp;&amp; unlikely(<span class='py_c_api'>PyMethod_Check</span>(__pyx_t_7))) {\n",
              "      __pyx_t_6 = <span class='py_macro_api'>PyMethod_GET_SELF</span>(__pyx_t_7);\n",
              "      if (likely(__pyx_t_6)) {\n",
              "        PyObject* function = <span class='py_macro_api'>PyMethod_GET_FUNCTION</span>(__pyx_t_7);\n",
              "        <span class='pyx_macro_api'>__Pyx_INCREF</span>(__pyx_t_6);\n",
              "        <span class='pyx_macro_api'>__Pyx_INCREF</span>(function);\n",
              "        <span class='pyx_macro_api'>__Pyx_DECREF_SET</span>(__pyx_t_7, function);\n",
              "      }\n",
              "    }\n",
              "    __pyx_t_5 = (__pyx_t_6) ? <span class='pyx_c_api'>__Pyx_PyObject_CallOneArg</span>(__pyx_t_7, __pyx_t_6) : <span class='pyx_c_api'>__Pyx_PyObject_CallNoArg</span>(__pyx_t_7);\n",
              "    <span class='pyx_macro_api'>__Pyx_XDECREF</span>(__pyx_t_6); __pyx_t_6 = 0;\n",
              "    if (unlikely(!__pyx_t_5)) <span class='error_goto'>__PYX_ERR(0, 6, __pyx_L1_error)</span>\n",
              "    <span class='refnanny'>__Pyx_GOTREF</span>(__pyx_t_5);\n",
              "    <span class='pyx_macro_api'>__Pyx_DECREF</span>(__pyx_t_7); __pyx_t_7 = 0;\n",
              "    __pyx_t_7 = <span class='py_c_api'>PyNumber_InPlaceAdd</span>(__pyx_t_4, __pyx_t_5);<span class='error_goto'> if (unlikely(!__pyx_t_7)) __PYX_ERR(0, 6, __pyx_L1_error)</span>\n",
              "    <span class='refnanny'>__Pyx_GOTREF</span>(__pyx_t_7);\n",
              "    <span class='pyx_macro_api'>__Pyx_DECREF</span>(__pyx_t_4); __pyx_t_4 = 0;\n",
              "    <span class='pyx_macro_api'>__Pyx_DECREF</span>(__pyx_t_5); __pyx_t_5 = 0;\n",
              "    __pyx_t_8 = __pyx_<span class='py_c_api'>PyFloat_AsFloat</span>(__pyx_t_7); if (unlikely((__pyx_t_8 == (float)-1) &amp;&amp; <span class='py_c_api'>PyErr_Occurred</span>())) <span class='error_goto'>__PYX_ERR(0, 6, __pyx_L1_error)</span>\n",
              "    <span class='pyx_macro_api'>__Pyx_DECREF</span>(__pyx_t_7); __pyx_t_7 = 0;\n",
              "    __pyx_v_s = __pyx_t_8;\n",
              "  }\n",
              "</pre><pre class=\"cython line score-11\" onclick=\"(function(s){s.display=s.display==='block'?'none':'block'})(this.nextElementSibling.style)\">+<span class=\"\">7</span>:   <span class=\"k\">return</span> <span class=\"n\">s</span><span class=\"o\">/</span><span class=\"n\">n</span></pre>\n",
              "<pre class='cython code score-11 '>  <span class='pyx_macro_api'>__Pyx_XDECREF</span>(__pyx_r);\n",
              "  if (unlikely(__pyx_v_n == 0)) {\n",
              "    <span class='py_c_api'>PyErr_SetString</span>(PyExc_ZeroDivisionError, \"float division\");\n",
              "    <span class='error_goto'>__PYX_ERR(0, 7, __pyx_L1_error)</span>\n",
              "  }\n",
              "  __pyx_t_7 = <span class='py_c_api'>PyFloat_FromDouble</span>((__pyx_v_s / ((float)__pyx_v_n)));<span class='error_goto'> if (unlikely(!__pyx_t_7)) __PYX_ERR(0, 7, __pyx_L1_error)</span>\n",
              "  <span class='refnanny'>__Pyx_GOTREF</span>(__pyx_t_7);\n",
              "  __pyx_r = __pyx_t_7;\n",
              "  __pyx_t_7 = 0;\n",
              "  goto __pyx_L0;\n",
              "</pre></div></body></html>"
            ],
            "text/plain": [
              "<IPython.core.display.HTML object>"
            ]
          },
          "metadata": {
            "tags": []
          },
          "execution_count": 27
        }
      ]
    },
    {
      "cell_type": "code",
      "metadata": {
        "id": "XtWBGtAzo2qM",
        "colab_type": "code",
        "outputId": "c93f2388-8d23-43ef-d22a-bb51fd3a3ec8",
        "colab": {
          "base_uri": "https://localhost:8080/",
          "height": 68
        }
      },
      "source": [
        "%time average_cy1(n)"
      ],
      "execution_count": 0,
      "outputs": [
        {
          "output_type": "stream",
          "text": [
            "CPU times: user 615 ms, sys: 0 ns, total: 615 ms\n",
            "Wall time: 618 ms\n"
          ],
          "name": "stdout"
        },
        {
          "output_type": "execute_result",
          "data": {
            "text/plain": [
              "0.5000699162483215"
            ]
          },
          "metadata": {
            "tags": []
          },
          "execution_count": 28
        }
      ]
    },
    {
      "cell_type": "code",
      "metadata": {
        "id": "oP0QOZMbo--u",
        "colab_type": "code",
        "outputId": "8ea0014e-91b5-4e56-e57b-72e65fb1fb1c",
        "colab": {
          "base_uri": "https://localhost:8080/",
          "height": 34
        }
      },
      "source": [
        "%timeit average_cy1(n)"
      ],
      "execution_count": 0,
      "outputs": [
        {
          "output_type": "stream",
          "text": [
            "1 loop, best of 3: 596 ms per loop\n"
          ],
          "name": "stdout"
        }
      ]
    },
    {
      "cell_type": "markdown",
      "metadata": {
        "id": "YO_-S7CEpMHL",
        "colab_type": "text"
      },
      "source": [
        "> Some speedup is observed, but not even close to that achieved by, for, the ***NumPy** version. A bit more **Cython** optimization is necessary to beat even the **Numba** version."
      ]
    },
    {
      "cell_type": "code",
      "metadata": {
        "id": "twUw08KipDSf",
        "colab_type": "code",
        "outputId": "d86b4487-0857-43cb-9845-b3e4c829d319",
        "colab": {
          "base_uri": "https://localhost:8080/",
          "height": 102
        }
      },
      "source": [
        "%%cython\n",
        "from libc.stdlib cimport rand\n",
        "cdef extern from 'limits.h':\n",
        "  int INT_MAX\n",
        "cdef int i\n",
        "cdef float rn\n",
        "for i in range(5):\n",
        "  rn = rand() / INT_MAX\n",
        "  print(rn)"
      ],
      "execution_count": 0,
      "outputs": [
        {
          "output_type": "stream",
          "text": [
            "0.27777472138404846\n",
            "0.5539699792861938\n",
            "0.47739705443382263\n",
            "0.6288709044456482\n",
            "0.36478447914123535\n"
          ],
          "name": "stdout"
        }
      ]
    },
    {
      "cell_type": "code",
      "metadata": {
        "id": "Vt7BN7Xhp1ni",
        "colab_type": "code",
        "outputId": "633d573d-08f8-44e6-c17c-8921c764111e",
        "colab": {
          "base_uri": "https://localhost:8080/",
          "height": 239
        }
      },
      "source": [
        "%%cython -a\n",
        "from libc.stdlib cimport rand\n",
        "cdef extern from 'limits.h':\n",
        "  int INT_MAX\n",
        "def average_cy2(int n):\n",
        "  cdef int i\n",
        "  cdef float s = 0\n",
        "  for i in range(n):\n",
        "    s += rand() / INT_MAX\n",
        "  return s / n"
      ],
      "execution_count": 0,
      "outputs": [
        {
          "output_type": "execute_result",
          "data": {
            "text/html": [
              "<!DOCTYPE html>\n",
              "<!-- Generated by Cython 0.29.16 -->\n",
              "<html>\n",
              "<head>\n",
              "    <meta http-equiv=\"Content-Type\" content=\"text/html; charset=utf-8\" />\n",
              "    <title>Cython: _cython_magic_8c1eabc8bb07d60f730b1b491fa41065.pyx</title>\n",
              "    <style type=\"text/css\">\n",
              "    \n",
              "body.cython { font-family: courier; font-size: 12; }\n",
              "\n",
              ".cython.tag  {  }\n",
              ".cython.line { margin: 0em }\n",
              ".cython.code { font-size: 9; color: #444444; display: none; margin: 0px 0px 0px 8px; border-left: 8px none; }\n",
              "\n",
              ".cython.line .run { background-color: #B0FFB0; }\n",
              ".cython.line .mis { background-color: #FFB0B0; }\n",
              ".cython.code.run  { border-left: 8px solid #B0FFB0; }\n",
              ".cython.code.mis  { border-left: 8px solid #FFB0B0; }\n",
              "\n",
              ".cython.code .py_c_api  { color: red; }\n",
              ".cython.code .py_macro_api  { color: #FF7000; }\n",
              ".cython.code .pyx_c_api  { color: #FF3000; }\n",
              ".cython.code .pyx_macro_api  { color: #FF7000; }\n",
              ".cython.code .refnanny  { color: #FFA000; }\n",
              ".cython.code .trace  { color: #FFA000; }\n",
              ".cython.code .error_goto  { color: #FFA000; }\n",
              "\n",
              ".cython.code .coerce  { color: #008000; border: 1px dotted #008000 }\n",
              ".cython.code .py_attr { color: #FF0000; font-weight: bold; }\n",
              ".cython.code .c_attr  { color: #0000FF; }\n",
              ".cython.code .py_call { color: #FF0000; font-weight: bold; }\n",
              ".cython.code .c_call  { color: #0000FF; }\n",
              "\n",
              ".cython.score-0 {background-color: #FFFFff;}\n",
              ".cython.score-1 {background-color: #FFFFe7;}\n",
              ".cython.score-2 {background-color: #FFFFd4;}\n",
              ".cython.score-3 {background-color: #FFFFc4;}\n",
              ".cython.score-4 {background-color: #FFFFb6;}\n",
              ".cython.score-5 {background-color: #FFFFaa;}\n",
              ".cython.score-6 {background-color: #FFFF9f;}\n",
              ".cython.score-7 {background-color: #FFFF96;}\n",
              ".cython.score-8 {background-color: #FFFF8d;}\n",
              ".cython.score-9 {background-color: #FFFF86;}\n",
              ".cython.score-10 {background-color: #FFFF7f;}\n",
              ".cython.score-11 {background-color: #FFFF79;}\n",
              ".cython.score-12 {background-color: #FFFF73;}\n",
              ".cython.score-13 {background-color: #FFFF6e;}\n",
              ".cython.score-14 {background-color: #FFFF6a;}\n",
              ".cython.score-15 {background-color: #FFFF66;}\n",
              ".cython.score-16 {background-color: #FFFF62;}\n",
              ".cython.score-17 {background-color: #FFFF5e;}\n",
              ".cython.score-18 {background-color: #FFFF5b;}\n",
              ".cython.score-19 {background-color: #FFFF57;}\n",
              ".cython.score-20 {background-color: #FFFF55;}\n",
              ".cython.score-21 {background-color: #FFFF52;}\n",
              ".cython.score-22 {background-color: #FFFF4f;}\n",
              ".cython.score-23 {background-color: #FFFF4d;}\n",
              ".cython.score-24 {background-color: #FFFF4b;}\n",
              ".cython.score-25 {background-color: #FFFF48;}\n",
              ".cython.score-26 {background-color: #FFFF46;}\n",
              ".cython.score-27 {background-color: #FFFF44;}\n",
              ".cython.score-28 {background-color: #FFFF43;}\n",
              ".cython.score-29 {background-color: #FFFF41;}\n",
              ".cython.score-30 {background-color: #FFFF3f;}\n",
              ".cython.score-31 {background-color: #FFFF3e;}\n",
              ".cython.score-32 {background-color: #FFFF3c;}\n",
              ".cython.score-33 {background-color: #FFFF3b;}\n",
              ".cython.score-34 {background-color: #FFFF39;}\n",
              ".cython.score-35 {background-color: #FFFF38;}\n",
              ".cython.score-36 {background-color: #FFFF37;}\n",
              ".cython.score-37 {background-color: #FFFF36;}\n",
              ".cython.score-38 {background-color: #FFFF35;}\n",
              ".cython.score-39 {background-color: #FFFF34;}\n",
              ".cython.score-40 {background-color: #FFFF33;}\n",
              ".cython.score-41 {background-color: #FFFF32;}\n",
              ".cython.score-42 {background-color: #FFFF31;}\n",
              ".cython.score-43 {background-color: #FFFF30;}\n",
              ".cython.score-44 {background-color: #FFFF2f;}\n",
              ".cython.score-45 {background-color: #FFFF2e;}\n",
              ".cython.score-46 {background-color: #FFFF2d;}\n",
              ".cython.score-47 {background-color: #FFFF2c;}\n",
              ".cython.score-48 {background-color: #FFFF2b;}\n",
              ".cython.score-49 {background-color: #FFFF2b;}\n",
              ".cython.score-50 {background-color: #FFFF2a;}\n",
              ".cython.score-51 {background-color: #FFFF29;}\n",
              ".cython.score-52 {background-color: #FFFF29;}\n",
              ".cython.score-53 {background-color: #FFFF28;}\n",
              ".cython.score-54 {background-color: #FFFF27;}\n",
              ".cython.score-55 {background-color: #FFFF27;}\n",
              ".cython.score-56 {background-color: #FFFF26;}\n",
              ".cython.score-57 {background-color: #FFFF26;}\n",
              ".cython.score-58 {background-color: #FFFF25;}\n",
              ".cython.score-59 {background-color: #FFFF24;}\n",
              ".cython.score-60 {background-color: #FFFF24;}\n",
              ".cython.score-61 {background-color: #FFFF23;}\n",
              ".cython.score-62 {background-color: #FFFF23;}\n",
              ".cython.score-63 {background-color: #FFFF22;}\n",
              ".cython.score-64 {background-color: #FFFF22;}\n",
              ".cython.score-65 {background-color: #FFFF22;}\n",
              ".cython.score-66 {background-color: #FFFF21;}\n",
              ".cython.score-67 {background-color: #FFFF21;}\n",
              ".cython.score-68 {background-color: #FFFF20;}\n",
              ".cython.score-69 {background-color: #FFFF20;}\n",
              ".cython.score-70 {background-color: #FFFF1f;}\n",
              ".cython.score-71 {background-color: #FFFF1f;}\n",
              ".cython.score-72 {background-color: #FFFF1f;}\n",
              ".cython.score-73 {background-color: #FFFF1e;}\n",
              ".cython.score-74 {background-color: #FFFF1e;}\n",
              ".cython.score-75 {background-color: #FFFF1e;}\n",
              ".cython.score-76 {background-color: #FFFF1d;}\n",
              ".cython.score-77 {background-color: #FFFF1d;}\n",
              ".cython.score-78 {background-color: #FFFF1c;}\n",
              ".cython.score-79 {background-color: #FFFF1c;}\n",
              ".cython.score-80 {background-color: #FFFF1c;}\n",
              ".cython.score-81 {background-color: #FFFF1c;}\n",
              ".cython.score-82 {background-color: #FFFF1b;}\n",
              ".cython.score-83 {background-color: #FFFF1b;}\n",
              ".cython.score-84 {background-color: #FFFF1b;}\n",
              ".cython.score-85 {background-color: #FFFF1a;}\n",
              ".cython.score-86 {background-color: #FFFF1a;}\n",
              ".cython.score-87 {background-color: #FFFF1a;}\n",
              ".cython.score-88 {background-color: #FFFF1a;}\n",
              ".cython.score-89 {background-color: #FFFF19;}\n",
              ".cython.score-90 {background-color: #FFFF19;}\n",
              ".cython.score-91 {background-color: #FFFF19;}\n",
              ".cython.score-92 {background-color: #FFFF19;}\n",
              ".cython.score-93 {background-color: #FFFF18;}\n",
              ".cython.score-94 {background-color: #FFFF18;}\n",
              ".cython.score-95 {background-color: #FFFF18;}\n",
              ".cython.score-96 {background-color: #FFFF18;}\n",
              ".cython.score-97 {background-color: #FFFF17;}\n",
              ".cython.score-98 {background-color: #FFFF17;}\n",
              ".cython.score-99 {background-color: #FFFF17;}\n",
              ".cython.score-100 {background-color: #FFFF17;}\n",
              ".cython.score-101 {background-color: #FFFF16;}\n",
              ".cython.score-102 {background-color: #FFFF16;}\n",
              ".cython.score-103 {background-color: #FFFF16;}\n",
              ".cython.score-104 {background-color: #FFFF16;}\n",
              ".cython.score-105 {background-color: #FFFF16;}\n",
              ".cython.score-106 {background-color: #FFFF15;}\n",
              ".cython.score-107 {background-color: #FFFF15;}\n",
              ".cython.score-108 {background-color: #FFFF15;}\n",
              ".cython.score-109 {background-color: #FFFF15;}\n",
              ".cython.score-110 {background-color: #FFFF15;}\n",
              ".cython.score-111 {background-color: #FFFF15;}\n",
              ".cython.score-112 {background-color: #FFFF14;}\n",
              ".cython.score-113 {background-color: #FFFF14;}\n",
              ".cython.score-114 {background-color: #FFFF14;}\n",
              ".cython.score-115 {background-color: #FFFF14;}\n",
              ".cython.score-116 {background-color: #FFFF14;}\n",
              ".cython.score-117 {background-color: #FFFF14;}\n",
              ".cython.score-118 {background-color: #FFFF13;}\n",
              ".cython.score-119 {background-color: #FFFF13;}\n",
              ".cython.score-120 {background-color: #FFFF13;}\n",
              ".cython.score-121 {background-color: #FFFF13;}\n",
              ".cython.score-122 {background-color: #FFFF13;}\n",
              ".cython.score-123 {background-color: #FFFF13;}\n",
              ".cython.score-124 {background-color: #FFFF13;}\n",
              ".cython.score-125 {background-color: #FFFF12;}\n",
              ".cython.score-126 {background-color: #FFFF12;}\n",
              ".cython.score-127 {background-color: #FFFF12;}\n",
              ".cython.score-128 {background-color: #FFFF12;}\n",
              ".cython.score-129 {background-color: #FFFF12;}\n",
              ".cython.score-130 {background-color: #FFFF12;}\n",
              ".cython.score-131 {background-color: #FFFF12;}\n",
              ".cython.score-132 {background-color: #FFFF11;}\n",
              ".cython.score-133 {background-color: #FFFF11;}\n",
              ".cython.score-134 {background-color: #FFFF11;}\n",
              ".cython.score-135 {background-color: #FFFF11;}\n",
              ".cython.score-136 {background-color: #FFFF11;}\n",
              ".cython.score-137 {background-color: #FFFF11;}\n",
              ".cython.score-138 {background-color: #FFFF11;}\n",
              ".cython.score-139 {background-color: #FFFF11;}\n",
              ".cython.score-140 {background-color: #FFFF11;}\n",
              ".cython.score-141 {background-color: #FFFF10;}\n",
              ".cython.score-142 {background-color: #FFFF10;}\n",
              ".cython.score-143 {background-color: #FFFF10;}\n",
              ".cython.score-144 {background-color: #FFFF10;}\n",
              ".cython.score-145 {background-color: #FFFF10;}\n",
              ".cython.score-146 {background-color: #FFFF10;}\n",
              ".cython.score-147 {background-color: #FFFF10;}\n",
              ".cython.score-148 {background-color: #FFFF10;}\n",
              ".cython.score-149 {background-color: #FFFF10;}\n",
              ".cython.score-150 {background-color: #FFFF0f;}\n",
              ".cython.score-151 {background-color: #FFFF0f;}\n",
              ".cython.score-152 {background-color: #FFFF0f;}\n",
              ".cython.score-153 {background-color: #FFFF0f;}\n",
              ".cython.score-154 {background-color: #FFFF0f;}\n",
              ".cython.score-155 {background-color: #FFFF0f;}\n",
              ".cython.score-156 {background-color: #FFFF0f;}\n",
              ".cython.score-157 {background-color: #FFFF0f;}\n",
              ".cython.score-158 {background-color: #FFFF0f;}\n",
              ".cython.score-159 {background-color: #FFFF0f;}\n",
              ".cython.score-160 {background-color: #FFFF0f;}\n",
              ".cython.score-161 {background-color: #FFFF0e;}\n",
              ".cython.score-162 {background-color: #FFFF0e;}\n",
              ".cython.score-163 {background-color: #FFFF0e;}\n",
              ".cython.score-164 {background-color: #FFFF0e;}\n",
              ".cython.score-165 {background-color: #FFFF0e;}\n",
              ".cython.score-166 {background-color: #FFFF0e;}\n",
              ".cython.score-167 {background-color: #FFFF0e;}\n",
              ".cython.score-168 {background-color: #FFFF0e;}\n",
              ".cython.score-169 {background-color: #FFFF0e;}\n",
              ".cython.score-170 {background-color: #FFFF0e;}\n",
              ".cython.score-171 {background-color: #FFFF0e;}\n",
              ".cython.score-172 {background-color: #FFFF0e;}\n",
              ".cython.score-173 {background-color: #FFFF0d;}\n",
              ".cython.score-174 {background-color: #FFFF0d;}\n",
              ".cython.score-175 {background-color: #FFFF0d;}\n",
              ".cython.score-176 {background-color: #FFFF0d;}\n",
              ".cython.score-177 {background-color: #FFFF0d;}\n",
              ".cython.score-178 {background-color: #FFFF0d;}\n",
              ".cython.score-179 {background-color: #FFFF0d;}\n",
              ".cython.score-180 {background-color: #FFFF0d;}\n",
              ".cython.score-181 {background-color: #FFFF0d;}\n",
              ".cython.score-182 {background-color: #FFFF0d;}\n",
              ".cython.score-183 {background-color: #FFFF0d;}\n",
              ".cython.score-184 {background-color: #FFFF0d;}\n",
              ".cython.score-185 {background-color: #FFFF0d;}\n",
              ".cython.score-186 {background-color: #FFFF0d;}\n",
              ".cython.score-187 {background-color: #FFFF0c;}\n",
              ".cython.score-188 {background-color: #FFFF0c;}\n",
              ".cython.score-189 {background-color: #FFFF0c;}\n",
              ".cython.score-190 {background-color: #FFFF0c;}\n",
              ".cython.score-191 {background-color: #FFFF0c;}\n",
              ".cython.score-192 {background-color: #FFFF0c;}\n",
              ".cython.score-193 {background-color: #FFFF0c;}\n",
              ".cython.score-194 {background-color: #FFFF0c;}\n",
              ".cython.score-195 {background-color: #FFFF0c;}\n",
              ".cython.score-196 {background-color: #FFFF0c;}\n",
              ".cython.score-197 {background-color: #FFFF0c;}\n",
              ".cython.score-198 {background-color: #FFFF0c;}\n",
              ".cython.score-199 {background-color: #FFFF0c;}\n",
              ".cython.score-200 {background-color: #FFFF0c;}\n",
              ".cython.score-201 {background-color: #FFFF0c;}\n",
              ".cython.score-202 {background-color: #FFFF0c;}\n",
              ".cython.score-203 {background-color: #FFFF0b;}\n",
              ".cython.score-204 {background-color: #FFFF0b;}\n",
              ".cython.score-205 {background-color: #FFFF0b;}\n",
              ".cython.score-206 {background-color: #FFFF0b;}\n",
              ".cython.score-207 {background-color: #FFFF0b;}\n",
              ".cython.score-208 {background-color: #FFFF0b;}\n",
              ".cython.score-209 {background-color: #FFFF0b;}\n",
              ".cython.score-210 {background-color: #FFFF0b;}\n",
              ".cython.score-211 {background-color: #FFFF0b;}\n",
              ".cython.score-212 {background-color: #FFFF0b;}\n",
              ".cython.score-213 {background-color: #FFFF0b;}\n",
              ".cython.score-214 {background-color: #FFFF0b;}\n",
              ".cython.score-215 {background-color: #FFFF0b;}\n",
              ".cython.score-216 {background-color: #FFFF0b;}\n",
              ".cython.score-217 {background-color: #FFFF0b;}\n",
              ".cython.score-218 {background-color: #FFFF0b;}\n",
              ".cython.score-219 {background-color: #FFFF0b;}\n",
              ".cython.score-220 {background-color: #FFFF0b;}\n",
              ".cython.score-221 {background-color: #FFFF0b;}\n",
              ".cython.score-222 {background-color: #FFFF0a;}\n",
              ".cython.score-223 {background-color: #FFFF0a;}\n",
              ".cython.score-224 {background-color: #FFFF0a;}\n",
              ".cython.score-225 {background-color: #FFFF0a;}\n",
              ".cython.score-226 {background-color: #FFFF0a;}\n",
              ".cython.score-227 {background-color: #FFFF0a;}\n",
              ".cython.score-228 {background-color: #FFFF0a;}\n",
              ".cython.score-229 {background-color: #FFFF0a;}\n",
              ".cython.score-230 {background-color: #FFFF0a;}\n",
              ".cython.score-231 {background-color: #FFFF0a;}\n",
              ".cython.score-232 {background-color: #FFFF0a;}\n",
              ".cython.score-233 {background-color: #FFFF0a;}\n",
              ".cython.score-234 {background-color: #FFFF0a;}\n",
              ".cython.score-235 {background-color: #FFFF0a;}\n",
              ".cython.score-236 {background-color: #FFFF0a;}\n",
              ".cython.score-237 {background-color: #FFFF0a;}\n",
              ".cython.score-238 {background-color: #FFFF0a;}\n",
              ".cython.score-239 {background-color: #FFFF0a;}\n",
              ".cython.score-240 {background-color: #FFFF0a;}\n",
              ".cython.score-241 {background-color: #FFFF0a;}\n",
              ".cython.score-242 {background-color: #FFFF0a;}\n",
              ".cython.score-243 {background-color: #FFFF0a;}\n",
              ".cython.score-244 {background-color: #FFFF0a;}\n",
              ".cython.score-245 {background-color: #FFFF0a;}\n",
              ".cython.score-246 {background-color: #FFFF09;}\n",
              ".cython.score-247 {background-color: #FFFF09;}\n",
              ".cython.score-248 {background-color: #FFFF09;}\n",
              ".cython.score-249 {background-color: #FFFF09;}\n",
              ".cython.score-250 {background-color: #FFFF09;}\n",
              ".cython.score-251 {background-color: #FFFF09;}\n",
              ".cython.score-252 {background-color: #FFFF09;}\n",
              ".cython.score-253 {background-color: #FFFF09;}\n",
              ".cython.score-254 {background-color: #FFFF09;}\n",
              ".cython .hll { background-color: #ffffcc }\n",
              ".cython  { background: #f8f8f8; }\n",
              ".cython .c { color: #408080; font-style: italic } /* Comment */\n",
              ".cython .err { border: 1px solid #FF0000 } /* Error */\n",
              ".cython .k { color: #008000; font-weight: bold } /* Keyword */\n",
              ".cython .o { color: #666666 } /* Operator */\n",
              ".cython .ch { color: #408080; font-style: italic } /* Comment.Hashbang */\n",
              ".cython .cm { color: #408080; font-style: italic } /* Comment.Multiline */\n",
              ".cython .cp { color: #BC7A00 } /* Comment.Preproc */\n",
              ".cython .cpf { color: #408080; font-style: italic } /* Comment.PreprocFile */\n",
              ".cython .c1 { color: #408080; font-style: italic } /* Comment.Single */\n",
              ".cython .cs { color: #408080; font-style: italic } /* Comment.Special */\n",
              ".cython .gd { color: #A00000 } /* Generic.Deleted */\n",
              ".cython .ge { font-style: italic } /* Generic.Emph */\n",
              ".cython .gr { color: #FF0000 } /* Generic.Error */\n",
              ".cython .gh { color: #000080; font-weight: bold } /* Generic.Heading */\n",
              ".cython .gi { color: #00A000 } /* Generic.Inserted */\n",
              ".cython .go { color: #888888 } /* Generic.Output */\n",
              ".cython .gp { color: #000080; font-weight: bold } /* Generic.Prompt */\n",
              ".cython .gs { font-weight: bold } /* Generic.Strong */\n",
              ".cython .gu { color: #800080; font-weight: bold } /* Generic.Subheading */\n",
              ".cython .gt { color: #0044DD } /* Generic.Traceback */\n",
              ".cython .kc { color: #008000; font-weight: bold } /* Keyword.Constant */\n",
              ".cython .kd { color: #008000; font-weight: bold } /* Keyword.Declaration */\n",
              ".cython .kn { color: #008000; font-weight: bold } /* Keyword.Namespace */\n",
              ".cython .kp { color: #008000 } /* Keyword.Pseudo */\n",
              ".cython .kr { color: #008000; font-weight: bold } /* Keyword.Reserved */\n",
              ".cython .kt { color: #B00040 } /* Keyword.Type */\n",
              ".cython .m { color: #666666 } /* Literal.Number */\n",
              ".cython .s { color: #BA2121 } /* Literal.String */\n",
              ".cython .na { color: #7D9029 } /* Name.Attribute */\n",
              ".cython .nb { color: #008000 } /* Name.Builtin */\n",
              ".cython .nc { color: #0000FF; font-weight: bold } /* Name.Class */\n",
              ".cython .no { color: #880000 } /* Name.Constant */\n",
              ".cython .nd { color: #AA22FF } /* Name.Decorator */\n",
              ".cython .ni { color: #999999; font-weight: bold } /* Name.Entity */\n",
              ".cython .ne { color: #D2413A; font-weight: bold } /* Name.Exception */\n",
              ".cython .nf { color: #0000FF } /* Name.Function */\n",
              ".cython .nl { color: #A0A000 } /* Name.Label */\n",
              ".cython .nn { color: #0000FF; font-weight: bold } /* Name.Namespace */\n",
              ".cython .nt { color: #008000; font-weight: bold } /* Name.Tag */\n",
              ".cython .nv { color: #19177C } /* Name.Variable */\n",
              ".cython .ow { color: #AA22FF; font-weight: bold } /* Operator.Word */\n",
              ".cython .w { color: #bbbbbb } /* Text.Whitespace */\n",
              ".cython .mb { color: #666666 } /* Literal.Number.Bin */\n",
              ".cython .mf { color: #666666 } /* Literal.Number.Float */\n",
              ".cython .mh { color: #666666 } /* Literal.Number.Hex */\n",
              ".cython .mi { color: #666666 } /* Literal.Number.Integer */\n",
              ".cython .mo { color: #666666 } /* Literal.Number.Oct */\n",
              ".cython .sb { color: #BA2121 } /* Literal.String.Backtick */\n",
              ".cython .sc { color: #BA2121 } /* Literal.String.Char */\n",
              ".cython .sd { color: #BA2121; font-style: italic } /* Literal.String.Doc */\n",
              ".cython .s2 { color: #BA2121 } /* Literal.String.Double */\n",
              ".cython .se { color: #BB6622; font-weight: bold } /* Literal.String.Escape */\n",
              ".cython .sh { color: #BA2121 } /* Literal.String.Heredoc */\n",
              ".cython .si { color: #BB6688; font-weight: bold } /* Literal.String.Interpol */\n",
              ".cython .sx { color: #008000 } /* Literal.String.Other */\n",
              ".cython .sr { color: #BB6688 } /* Literal.String.Regex */\n",
              ".cython .s1 { color: #BA2121 } /* Literal.String.Single */\n",
              ".cython .ss { color: #19177C } /* Literal.String.Symbol */\n",
              ".cython .bp { color: #008000 } /* Name.Builtin.Pseudo */\n",
              ".cython .vc { color: #19177C } /* Name.Variable.Class */\n",
              ".cython .vg { color: #19177C } /* Name.Variable.Global */\n",
              ".cython .vi { color: #19177C } /* Name.Variable.Instance */\n",
              ".cython .il { color: #666666 } /* Literal.Number.Integer.Long */\n",
              "    </style>\n",
              "</head>\n",
              "<body class=\"cython\">\n",
              "<p><span style=\"border-bottom: solid 1px grey;\">Generated by Cython 0.29.16</span></p>\n",
              "<p>\n",
              "    <span style=\"background-color: #FFFF00\">Yellow lines</span> hint at Python interaction.<br />\n",
              "    Click on a line that starts with a \"<code>+</code>\" to see the C code that Cython generated for it.\n",
              "</p>\n",
              "<div class=\"cython\"><pre class=\"cython line score-0\">&#xA0;<span class=\"\">1</span>: <span class=\"k\">from</span> <span class=\"nn\">libc.stdlib</span> <span class=\"k\">cimport</span> <span class=\"n\">rand</span></pre>\n",
              "<pre class=\"cython line score-0\">&#xA0;<span class=\"\">2</span>: <span class=\"k\">cdef</span> <span class=\"kr\">extern</span> <span class=\"k\">from</span> <span class=\"s\">&#39;limits.h&#39;</span><span class=\"p\">:</span></pre>\n",
              "<pre class=\"cython line score-0\">&#xA0;<span class=\"\">3</span>:   <span class=\"nb\">int</span> <span class=\"n\">INT_MAX</span></pre>\n",
              "<pre class=\"cython line score-23\" onclick=\"(function(s){s.display=s.display==='block'?'none':'block'})(this.nextElementSibling.style)\">+<span class=\"\">4</span>: <span class=\"k\">def</span> <span class=\"nf\">average_cy2</span><span class=\"p\">(</span><span class=\"nb\">int</span> <span class=\"n\">n</span><span class=\"p\">):</span></pre>\n",
              "<pre class='cython code score-23 '>/* Python wrapper */\n",
              "static PyObject *__pyx_pw_46_cython_magic_8c1eabc8bb07d60f730b1b491fa41065_1average_cy2(PyObject *__pyx_self, PyObject *__pyx_arg_n); /*proto*/\n",
              "static PyMethodDef __pyx_mdef_46_cython_magic_8c1eabc8bb07d60f730b1b491fa41065_1average_cy2 = {\"average_cy2\", (PyCFunction)__pyx_pw_46_cython_magic_8c1eabc8bb07d60f730b1b491fa41065_1average_cy2, METH_O, 0};\n",
              "static PyObject *__pyx_pw_46_cython_magic_8c1eabc8bb07d60f730b1b491fa41065_1average_cy2(PyObject *__pyx_self, PyObject *__pyx_arg_n) {\n",
              "  int __pyx_v_n;\n",
              "  PyObject *__pyx_r = 0;\n",
              "  <span class='refnanny'>__Pyx_RefNannyDeclarations</span>\n",
              "  <span class='refnanny'>__Pyx_RefNannySetupContext</span>(\"average_cy2 (wrapper)\", 0);\n",
              "  assert(__pyx_arg_n); {\n",
              "    __pyx_v_n = <span class='pyx_c_api'>__Pyx_PyInt_As_int</span>(__pyx_arg_n); if (unlikely((__pyx_v_n == (int)-1) &amp;&amp; <span class='py_c_api'>PyErr_Occurred</span>())) <span class='error_goto'>__PYX_ERR(0, 4, __pyx_L3_error)</span>\n",
              "  }\n",
              "  goto __pyx_L4_argument_unpacking_done;\n",
              "  __pyx_L3_error:;\n",
              "  <span class='pyx_c_api'>__Pyx_AddTraceback</span>(\"_cython_magic_8c1eabc8bb07d60f730b1b491fa41065.average_cy2\", __pyx_clineno, __pyx_lineno, __pyx_filename);\n",
              "  <span class='refnanny'>__Pyx_RefNannyFinishContext</span>();\n",
              "  return NULL;\n",
              "  __pyx_L4_argument_unpacking_done:;\n",
              "  __pyx_r = __pyx_pf_46_cython_magic_8c1eabc8bb07d60f730b1b491fa41065_average_cy2(__pyx_self, ((int)__pyx_v_n));\n",
              "\n",
              "  /* function exit code */\n",
              "  <span class='refnanny'>__Pyx_RefNannyFinishContext</span>();\n",
              "  return __pyx_r;\n",
              "}\n",
              "\n",
              "static PyObject *__pyx_pf_46_cython_magic_8c1eabc8bb07d60f730b1b491fa41065_average_cy2(CYTHON_UNUSED PyObject *__pyx_self, int __pyx_v_n) {\n",
              "  CYTHON_UNUSED int __pyx_v_i;\n",
              "  float __pyx_v_s;\n",
              "  PyObject *__pyx_r = NULL;\n",
              "  <span class='refnanny'>__Pyx_RefNannyDeclarations</span>\n",
              "  <span class='refnanny'>__Pyx_RefNannySetupContext</span>(\"average_cy2\", 0);\n",
              "/* … */\n",
              "  /* function exit code */\n",
              "  __pyx_L1_error:;\n",
              "  <span class='pyx_macro_api'>__Pyx_XDECREF</span>(__pyx_t_5);\n",
              "  <span class='pyx_c_api'>__Pyx_AddTraceback</span>(\"_cython_magic_8c1eabc8bb07d60f730b1b491fa41065.average_cy2\", __pyx_clineno, __pyx_lineno, __pyx_filename);\n",
              "  __pyx_r = NULL;\n",
              "  __pyx_L0:;\n",
              "  <span class='refnanny'>__Pyx_XGIVEREF</span>(__pyx_r);\n",
              "  <span class='refnanny'>__Pyx_RefNannyFinishContext</span>();\n",
              "  return __pyx_r;\n",
              "}\n",
              "/* … */\n",
              "  __pyx_tuple_ = <span class='py_c_api'>PyTuple_Pack</span>(4, __pyx_n_s_n, __pyx_n_s_n, __pyx_n_s_i, __pyx_n_s_s);<span class='error_goto'> if (unlikely(!__pyx_tuple_)) __PYX_ERR(0, 4, __pyx_L1_error)</span>\n",
              "  <span class='refnanny'>__Pyx_GOTREF</span>(__pyx_tuple_);\n",
              "  <span class='refnanny'>__Pyx_GIVEREF</span>(__pyx_tuple_);\n",
              "/* … */\n",
              "  __pyx_t_1 = PyCFunction_NewEx(&amp;__pyx_mdef_46_cython_magic_8c1eabc8bb07d60f730b1b491fa41065_1average_cy2, NULL, __pyx_n_s_cython_magic_8c1eabc8bb07d60f73);<span class='error_goto'> if (unlikely(!__pyx_t_1)) __PYX_ERR(0, 4, __pyx_L1_error)</span>\n",
              "  <span class='refnanny'>__Pyx_GOTREF</span>(__pyx_t_1);\n",
              "  if (<span class='py_c_api'>PyDict_SetItem</span>(__pyx_d, __pyx_n_s_average_cy2, __pyx_t_1) &lt; 0) <span class='error_goto'>__PYX_ERR(0, 4, __pyx_L1_error)</span>\n",
              "  <span class='pyx_macro_api'>__Pyx_DECREF</span>(__pyx_t_1); __pyx_t_1 = 0;\n",
              "</pre><pre class=\"cython line score-0\">&#xA0;<span class=\"\">5</span>:   <span class=\"k\">cdef</span> <span class=\"kt\">int</span> <span class=\"nf\">i</span></pre>\n",
              "<pre class=\"cython line score-0\" onclick=\"(function(s){s.display=s.display==='block'?'none':'block'})(this.nextElementSibling.style)\">+<span class=\"\">6</span>:   <span class=\"k\">cdef</span> <span class=\"kt\">float</span> <span class=\"nf\">s</span> <span class=\"o\">=</span> <span class=\"mf\">0</span></pre>\n",
              "<pre class='cython code score-0 '>  __pyx_v_s = 0.0;\n",
              "</pre><pre class=\"cython line score-0\" onclick=\"(function(s){s.display=s.display==='block'?'none':'block'})(this.nextElementSibling.style)\">+<span class=\"\">7</span>:   <span class=\"k\">for</span> <span class=\"n\">i</span> <span class=\"ow\">in</span> <span class=\"nb\">range</span><span class=\"p\">(</span><span class=\"n\">n</span><span class=\"p\">):</span></pre>\n",
              "<pre class='cython code score-0 '>  __pyx_t_1 = __pyx_v_n;\n",
              "  __pyx_t_2 = __pyx_t_1;\n",
              "  for (__pyx_t_3 = 0; __pyx_t_3 &lt; __pyx_t_2; __pyx_t_3+=1) {\n",
              "    __pyx_v_i = __pyx_t_3;\n",
              "</pre><pre class=\"cython line score-5\" onclick=\"(function(s){s.display=s.display==='block'?'none':'block'})(this.nextElementSibling.style)\">+<span class=\"\">8</span>:     <span class=\"n\">s</span> <span class=\"o\">+=</span> <span class=\"n\">rand</span><span class=\"p\">()</span> <span class=\"o\">/</span> <span class=\"n\">INT_MAX</span></pre>\n",
              "<pre class='cython code score-5 '>    __pyx_t_4 = rand();\n",
              "    if (unlikely(INT_MAX == 0)) {\n",
              "      <span class='py_c_api'>PyErr_SetString</span>(PyExc_ZeroDivisionError, \"float division\");\n",
              "      <span class='error_goto'>__PYX_ERR(0, 8, __pyx_L1_error)</span>\n",
              "    }\n",
              "    __pyx_v_s = (__pyx_v_s + (((double)__pyx_t_4) / ((double)INT_MAX)));\n",
              "  }\n",
              "</pre><pre class=\"cython line score-11\" onclick=\"(function(s){s.display=s.display==='block'?'none':'block'})(this.nextElementSibling.style)\">+<span class=\"\">9</span>:   <span class=\"k\">return</span> <span class=\"n\">s</span> <span class=\"o\">/</span> <span class=\"n\">n</span></pre>\n",
              "<pre class='cython code score-11 '>  <span class='pyx_macro_api'>__Pyx_XDECREF</span>(__pyx_r);\n",
              "  if (unlikely(__pyx_v_n == 0)) {\n",
              "    <span class='py_c_api'>PyErr_SetString</span>(PyExc_ZeroDivisionError, \"float division\");\n",
              "    <span class='error_goto'>__PYX_ERR(0, 9, __pyx_L1_error)</span>\n",
              "  }\n",
              "  __pyx_t_5 = <span class='py_c_api'>PyFloat_FromDouble</span>((__pyx_v_s / ((float)__pyx_v_n)));<span class='error_goto'> if (unlikely(!__pyx_t_5)) __PYX_ERR(0, 9, __pyx_L1_error)</span>\n",
              "  <span class='refnanny'>__Pyx_GOTREF</span>(__pyx_t_5);\n",
              "  __pyx_r = __pyx_t_5;\n",
              "  __pyx_t_5 = 0;\n",
              "  goto __pyx_L0;\n",
              "</pre></div></body></html>"
            ],
            "text/plain": [
              "<IPython.core.display.HTML object>"
            ]
          },
          "metadata": {
            "tags": []
          },
          "execution_count": 36
        }
      ]
    },
    {
      "cell_type": "code",
      "metadata": {
        "id": "s5WJYkZWqGzn",
        "colab_type": "code",
        "outputId": "3aca6a1c-eb86-444f-9a39-656bb8728dbe",
        "colab": {
          "base_uri": "https://localhost:8080/",
          "height": 68
        }
      },
      "source": [
        "%time average_cy2(n)"
      ],
      "execution_count": 0,
      "outputs": [
        {
          "output_type": "stream",
          "text": [
            "CPU times: user 208 ms, sys: 931 µs, total: 209 ms\n",
            "Wall time: 209 ms\n"
          ],
          "name": "stdout"
        },
        {
          "output_type": "execute_result",
          "data": {
            "text/plain": [
              "0.5000576972961426"
            ]
          },
          "metadata": {
            "tags": []
          },
          "execution_count": 37
        }
      ]
    },
    {
      "cell_type": "code",
      "metadata": {
        "id": "1q_MXfYcqJvr",
        "colab_type": "code",
        "outputId": "9dc00d9d-5a2c-42f8-e4fa-b81982f66b86",
        "colab": {
          "base_uri": "https://localhost:8080/",
          "height": 34
        }
      },
      "source": [
        "%timeit average_cy2(n)"
      ],
      "execution_count": 0,
      "outputs": [
        {
          "output_type": "stream",
          "text": [
            "1 loop, best of 3: 206 ms per loop\n"
          ],
          "name": "stdout"
        }
      ]
    },
    {
      "cell_type": "markdown",
      "metadata": {
        "id": "kUXXo7QEq73N",
        "colab_type": "text"
      },
      "source": [
        "# **Algorithms**"
      ]
    },
    {
      "cell_type": "markdown",
      "metadata": {
        "id": "EwL8VLj0rA-q",
        "colab_type": "text"
      },
      "source": [
        "> This section applies the performace-enhancing techniques from the pervious section to some well-know problems and algorithms from mathematics. These alogrithms are regularly used for performance benchmarks."
      ]
    },
    {
      "cell_type": "markdown",
      "metadata": {
        "id": "2Cf_ycsJyw8v",
        "colab_type": "text"
      },
      "source": [
        "## **prime numbers**"
      ]
    },
    {
      "cell_type": "markdown",
      "metadata": {
        "id": "zPTrfDIrrZ-I",
        "colab_type": "text"
      },
      "source": [
        "### **Python**"
      ]
    },
    {
      "cell_type": "code",
      "metadata": {
        "id": "4jKc75rHqfzd",
        "colab_type": "code",
        "colab": {}
      },
      "source": [
        "def is_prime(I):\n",
        "  if I % 2 == 0 : return False # if the number is even, False is returned immediately\n",
        "  for i in range(3,int(I**0.5)+1,2): # the loop starts at 3 and goes until square root of I plus 1 with step size 2\n",
        "    if I % i == 0: return False\n",
        "  return True"
      ],
      "execution_count": 0,
      "outputs": []
    },
    {
      "cell_type": "code",
      "metadata": {
        "id": "MGeMOJuQr9zL",
        "colab_type": "code",
        "outputId": "31a9bed3-9f67-4c58-8773-54db79d47a9f",
        "colab": {
          "base_uri": "https://localhost:8080/",
          "height": 34
        }
      },
      "source": [
        "n = int(1e8+3)\n",
        "n"
      ],
      "execution_count": 0,
      "outputs": [
        {
          "output_type": "execute_result",
          "data": {
            "text/plain": [
              "100000003"
            ]
          },
          "metadata": {
            "tags": []
          },
          "execution_count": 41
        }
      ]
    },
    {
      "cell_type": "code",
      "metadata": {
        "id": "2g6tQI2JsAVp",
        "colab_type": "code",
        "outputId": "a5c26d36-ce20-46b9-d8ca-eb30eb3728fd",
        "colab": {
          "base_uri": "https://localhost:8080/",
          "height": 68
        }
      },
      "source": [
        "%time is_prime(n)"
      ],
      "execution_count": 0,
      "outputs": [
        {
          "output_type": "stream",
          "text": [
            "CPU times: user 39 µs, sys: 2 µs, total: 41 µs\n",
            "Wall time: 44.1 µs\n"
          ],
          "name": "stdout"
        },
        {
          "output_type": "execute_result",
          "data": {
            "text/plain": [
              "False"
            ]
          },
          "metadata": {
            "tags": []
          },
          "execution_count": 42
        }
      ]
    },
    {
      "cell_type": "code",
      "metadata": {
        "id": "9RXlWvNRsFfL",
        "colab_type": "code",
        "outputId": "1cbd6217-9060-4f3f-b842-4f5199511437",
        "colab": {
          "base_uri": "https://localhost:8080/",
          "height": 34
        }
      },
      "source": [
        "p1 = int(1e8+7)\n",
        "p1"
      ],
      "execution_count": 0,
      "outputs": [
        {
          "output_type": "execute_result",
          "data": {
            "text/plain": [
              "100000007"
            ]
          },
          "metadata": {
            "tags": []
          },
          "execution_count": 43
        }
      ]
    },
    {
      "cell_type": "code",
      "metadata": {
        "id": "MuD43QXlsK-E",
        "colab_type": "code",
        "outputId": "63bd53ee-56c0-4ec2-b02e-db898af07ce2",
        "colab": {
          "base_uri": "https://localhost:8080/",
          "height": 68
        }
      },
      "source": [
        "%time is_prime(p1)"
      ],
      "execution_count": 0,
      "outputs": [
        {
          "output_type": "stream",
          "text": [
            "CPU times: user 633 µs, sys: 0 ns, total: 633 µs\n",
            "Wall time: 641 µs\n"
          ],
          "name": "stdout"
        },
        {
          "output_type": "execute_result",
          "data": {
            "text/plain": [
              "True"
            ]
          },
          "metadata": {
            "tags": []
          },
          "execution_count": 44
        }
      ]
    },
    {
      "cell_type": "code",
      "metadata": {
        "id": "x2D9b2T_sNXB",
        "colab_type": "code",
        "outputId": "5cd9f40d-6781-4e77-92b6-f01a12550986",
        "colab": {
          "base_uri": "https://localhost:8080/",
          "height": 34
        }
      },
      "source": [
        "p2 = 100109100129162907 # A larger prime numbers which requires longer execution times.\n",
        "p2.bit_length()"
      ],
      "execution_count": 0,
      "outputs": [
        {
          "output_type": "execute_result",
          "data": {
            "text/plain": [
              "57"
            ]
          },
          "metadata": {
            "tags": []
          },
          "execution_count": 45
        }
      ]
    },
    {
      "cell_type": "code",
      "metadata": {
        "id": "2E2Y4D7csWb2",
        "colab_type": "code",
        "outputId": "678a578c-4ac3-4b82-a1f0-6aef6e51a048",
        "colab": {
          "base_uri": "https://localhost:8080/",
          "height": 68
        }
      },
      "source": [
        "%time is_prime(p2)"
      ],
      "execution_count": 0,
      "outputs": [
        {
          "output_type": "stream",
          "text": [
            "CPU times: user 17.6 s, sys: 512 µs, total: 17.6 s\n",
            "Wall time: 17.7 s\n"
          ],
          "name": "stdout"
        },
        {
          "output_type": "execute_result",
          "data": {
            "text/plain": [
              "True"
            ]
          },
          "metadata": {
            "tags": []
          },
          "execution_count": 46
        }
      ]
    },
    {
      "cell_type": "markdown",
      "metadata": {
        "id": "aTG5XBQfs_wO",
        "colab_type": "text"
      },
      "source": [
        "### **Numba**"
      ]
    },
    {
      "cell_type": "markdown",
      "metadata": {
        "id": "BwARlFx9tCpU",
        "colab_type": "text"
      },
      "source": [
        "> The loop structure of the algorithm in the function `is_prime()` lends itself well to be being dynamically compiled with **Numba**. The overhead again is minimal but the speedup considerable."
      ]
    },
    {
      "cell_type": "code",
      "metadata": {
        "id": "YeEl0UsJsaCg",
        "colab_type": "code",
        "colab": {}
      },
      "source": [
        "is_prime_numba = numba.jit(is_prime)"
      ],
      "execution_count": 0,
      "outputs": []
    },
    {
      "cell_type": "code",
      "metadata": {
        "id": "GtXui0JTta9F",
        "colab_type": "code",
        "outputId": "0669949e-0d2d-46c2-b540-a5630c17c104",
        "colab": {
          "base_uri": "https://localhost:8080/",
          "height": 68
        }
      },
      "source": [
        "%time is_prime_numba(n)"
      ],
      "execution_count": 0,
      "outputs": [
        {
          "output_type": "stream",
          "text": [
            "CPU times: user 118 ms, sys: 2.99 ms, total: 121 ms\n",
            "Wall time: 127 ms\n"
          ],
          "name": "stdout"
        },
        {
          "output_type": "execute_result",
          "data": {
            "text/plain": [
              "False"
            ]
          },
          "metadata": {
            "tags": []
          },
          "execution_count": 48
        }
      ]
    },
    {
      "cell_type": "code",
      "metadata": {
        "id": "0AxvGl-mtfJi",
        "colab_type": "code",
        "outputId": "6a88a267-d204-409a-81d0-7fd5d9fe7ced",
        "colab": {
          "base_uri": "https://localhost:8080/",
          "height": 68
        }
      },
      "source": [
        "%time is_prime_numba(n)"
      ],
      "execution_count": 0,
      "outputs": [
        {
          "output_type": "stream",
          "text": [
            "CPU times: user 10 µs, sys: 1e+03 ns, total: 11 µs\n",
            "Wall time: 12.4 µs\n"
          ],
          "name": "stdout"
        },
        {
          "output_type": "execute_result",
          "data": {
            "text/plain": [
              "False"
            ]
          },
          "metadata": {
            "tags": []
          },
          "execution_count": 49
        }
      ]
    },
    {
      "cell_type": "code",
      "metadata": {
        "id": "MB-CT-Ketjow",
        "colab_type": "code",
        "outputId": "57cd9c65-72e3-478b-d821-7212ed59c116",
        "colab": {
          "base_uri": "https://localhost:8080/",
          "height": 68
        }
      },
      "source": [
        "%time is_prime_numba(p1)"
      ],
      "execution_count": 0,
      "outputs": [
        {
          "output_type": "stream",
          "text": [
            "CPU times: user 46 µs, sys: 0 ns, total: 46 µs\n",
            "Wall time: 50.1 µs\n"
          ],
          "name": "stdout"
        },
        {
          "output_type": "execute_result",
          "data": {
            "text/plain": [
              "True"
            ]
          },
          "metadata": {
            "tags": []
          },
          "execution_count": 50
        }
      ]
    },
    {
      "cell_type": "code",
      "metadata": {
        "id": "nhObfthotmz2",
        "colab_type": "code",
        "outputId": "e99d9656-5e3e-4ca3-c8d6-e517ff19f1da",
        "colab": {
          "base_uri": "https://localhost:8080/"
        }
      },
      "source": [
        "%time is_prime_numba(p2)"
      ],
      "execution_count": 0,
      "outputs": [
        {
          "output_type": "stream",
          "text": [
            "CPU times: user 1.92 s, sys: 0 ns, total: 1.92 s\n",
            "Wall time: 1.92 s\n"
          ],
          "name": "stdout"
        },
        {
          "output_type": "execute_result",
          "data": {
            "text/plain": [
              "True"
            ]
          },
          "metadata": {
            "tags": []
          },
          "execution_count": 51
        }
      ]
    },
    {
      "cell_type": "markdown",
      "metadata": {
        "id": "8ddYcAqwtusb",
        "colab_type": "text"
      },
      "source": [
        "### **Cython**"
      ]
    },
    {
      "cell_type": "code",
      "metadata": {
        "id": "AIte7thetoql",
        "colab_type": "code",
        "colab": {}
      },
      "source": [
        "%%cython\n",
        "def is_prime_cy1(I):\n",
        "  if I % 2 == 0 : return False \n",
        "  for i in range(3,int(I**0.5)+1,2): \n",
        "    if I % i == 0: return False\n",
        "  return True"
      ],
      "execution_count": 0,
      "outputs": []
    },
    {
      "cell_type": "code",
      "metadata": {
        "id": "9Hta6zAPuBSp",
        "colab_type": "code",
        "outputId": "7b76f722-df95-4667-d99b-17b9c2386f85",
        "colab": {
          "base_uri": "https://localhost:8080/",
          "height": 34
        }
      },
      "source": [
        "%timeit is_prime(p1)"
      ],
      "execution_count": 0,
      "outputs": [
        {
          "output_type": "stream",
          "text": [
            "1000 loops, best of 3: 348 µs per loop\n"
          ],
          "name": "stdout"
        }
      ]
    },
    {
      "cell_type": "code",
      "metadata": {
        "id": "zZb_0894uFE1",
        "colab_type": "code",
        "outputId": "a2f56a75-cb6c-42e8-9a19-fe62ca59367d",
        "colab": {
          "base_uri": "https://localhost:8080/",
          "height": 34
        }
      },
      "source": [
        "%timeit is_prime_cy1(p1)"
      ],
      "execution_count": 0,
      "outputs": [
        {
          "output_type": "stream",
          "text": [
            "1000 loops, best of 3: 231 µs per loop\n"
          ],
          "name": "stdout"
        }
      ]
    },
    {
      "cell_type": "markdown",
      "metadata": {
        "id": "upIda594uNKV",
        "colab_type": "text"
      },
      "source": [
        "> However, real improvements only materialize with the static type decalrations. The **Cython** version then even is slightly faster than the **Numba** one."
      ]
    },
    {
      "cell_type": "code",
      "metadata": {
        "id": "JmGg45MtuI57",
        "colab_type": "code",
        "colab": {}
      },
      "source": [
        "%%cython\n",
        "def is_prime_cy2(long I):\n",
        "  cdef long i\n",
        "  if I % 2 == 0 : return False \n",
        "  for i in range(3,int(I**0.5)+1,2): \n",
        "    if I % i == 0: return False\n",
        "  return True"
      ],
      "execution_count": 0,
      "outputs": []
    },
    {
      "cell_type": "code",
      "metadata": {
        "id": "6-oGVQ-HuncY",
        "colab_type": "code",
        "outputId": "e8cfaacc-4f82-4e61-ef94-d89d259ea3c4",
        "colab": {
          "base_uri": "https://localhost:8080/"
        }
      },
      "source": [
        "%timeit is_prime_cy2(p1)"
      ],
      "execution_count": 0,
      "outputs": [
        {
          "output_type": "stream",
          "text": [
            "10000 loops, best of 3: 52.6 µs per loop\n"
          ],
          "name": "stdout"
        }
      ]
    },
    {
      "cell_type": "code",
      "metadata": {
        "id": "FQfDhcpiuqSt",
        "colab_type": "code",
        "outputId": "56d6084e-3a45-4e3a-c1fe-7a9de8212cb5",
        "colab": {
          "base_uri": "https://localhost:8080/"
        }
      },
      "source": [
        "%time is_prime_numba(p2)"
      ],
      "execution_count": 0,
      "outputs": [
        {
          "output_type": "stream",
          "text": [
            "CPU times: user 1.9 s, sys: 2.02 ms, total: 1.9 s\n",
            "Wall time: 1.9 s\n"
          ],
          "name": "stdout"
        },
        {
          "output_type": "execute_result",
          "data": {
            "text/plain": [
              "True"
            ]
          },
          "metadata": {
            "tags": []
          },
          "execution_count": 58
        }
      ]
    },
    {
      "cell_type": "code",
      "metadata": {
        "id": "ovjSuTDkuxxl",
        "colab_type": "code",
        "outputId": "135e10ab-a1c1-4d1c-8d96-7d08e7fc730a",
        "colab": {
          "base_uri": "https://localhost:8080/"
        }
      },
      "source": [
        "%time is_prime_cy2(p2)"
      ],
      "execution_count": 0,
      "outputs": [
        {
          "output_type": "stream",
          "text": [
            "CPU times: user 1.67 s, sys: 2.92 ms, total: 1.67 s\n",
            "Wall time: 1.67 s\n"
          ],
          "name": "stdout"
        },
        {
          "output_type": "execute_result",
          "data": {
            "text/plain": [
              "True"
            ]
          },
          "metadata": {
            "tags": []
          },
          "execution_count": 59
        }
      ]
    },
    {
      "cell_type": "markdown",
      "metadata": {
        "id": "KL_33hvcvccV",
        "colab_type": "text"
      },
      "source": [
        "### **Multiprocessing**"
      ]
    },
    {
      "cell_type": "markdown",
      "metadata": {
        "id": "-dgAnG8BvhhI",
        "colab_type": "text"
      },
      "source": [
        "> So far, all the optimization efforts have focused on the sequential code execution. In particular with prime numbers, there might be a need to check multiple numbers at the same time. to this end, the multiprocessing module can help speed up the code execution further. It allows one to spawn multiple python processes that run in parallel. The application is straightforward in the simple case at hand. First, an **mp.pool** is set up with multiple processes. Second, the function to be executed is mapped to the prime numbers to be checked."
      ]
    },
    {
      "cell_type": "code",
      "metadata": {
        "id": "mxYQwQP-vDlI",
        "colab_type": "code",
        "colab": {}
      },
      "source": [
        "pool = mp.Pool(processes=4)"
      ],
      "execution_count": 0,
      "outputs": []
    },
    {
      "cell_type": "code",
      "metadata": {
        "id": "MhKQDv-nwj6u",
        "colab_type": "code",
        "outputId": "85aa5c9b-5501-46de-9137-96b4e452bc43",
        "colab": {
          "base_uri": "https://localhost:8080/",
          "height": 68
        }
      },
      "source": [
        "%time pool.map(is_prime,10*[p1])"
      ],
      "execution_count": 0,
      "outputs": [
        {
          "output_type": "stream",
          "text": [
            "CPU times: user 1.74 ms, sys: 0 ns, total: 1.74 ms\n",
            "Wall time: 9.37 ms\n"
          ],
          "name": "stdout"
        },
        {
          "output_type": "execute_result",
          "data": {
            "text/plain": [
              "[True, True, True, True, True, True, True, True, True, True]"
            ]
          },
          "metadata": {
            "tags": []
          },
          "execution_count": 62
        }
      ]
    },
    {
      "cell_type": "code",
      "metadata": {
        "id": "h3vRZ_zWxMzf",
        "colab_type": "code",
        "outputId": "6b074860-8d3d-436c-f148-d42f35e9fa2e",
        "colab": {
          "base_uri": "https://localhost:8080/",
          "height": 68
        }
      },
      "source": [
        "%time pool.map(is_prime,10*[p2])"
      ],
      "execution_count": 0,
      "outputs": [
        {
          "output_type": "stream",
          "text": [
            "CPU times: user 130 ms, sys: 46.4 ms, total: 176 ms\n",
            "Wall time: 3min 8s\n"
          ],
          "name": "stdout"
        },
        {
          "output_type": "execute_result",
          "data": {
            "text/plain": [
              "[True, True, True, True, True, True, True, True, True, True]"
            ]
          },
          "metadata": {
            "tags": []
          },
          "execution_count": 64
        }
      ]
    },
    {
      "cell_type": "code",
      "metadata": {
        "id": "BKr4WIg9wwf9",
        "colab_type": "code",
        "outputId": "7ead3022-b456-434c-efcd-6dcfd2b93d51",
        "colab": {
          "base_uri": "https://localhost:8080/",
          "height": 68
        }
      },
      "source": [
        "%time pool.map(is_prime_numba,10*[p2])"
      ],
      "execution_count": 0,
      "outputs": [
        {
          "output_type": "stream",
          "text": [
            "CPU times: user 16.3 ms, sys: 4.9 ms, total: 21.2 ms\n",
            "Wall time: 15.4 s\n"
          ],
          "name": "stdout"
        },
        {
          "output_type": "execute_result",
          "data": {
            "text/plain": [
              "[True, True, True, True, True, True, True, True, True, True]"
            ]
          },
          "metadata": {
            "tags": []
          },
          "execution_count": 63
        }
      ]
    },
    {
      "cell_type": "code",
      "metadata": {
        "id": "AlbVnBRCxH-7",
        "colab_type": "code",
        "outputId": "f1e6d0d0-2ae1-48d0-f6ef-08bd8976718a",
        "colab": {
          "base_uri": "https://localhost:8080/",
          "height": 68
        }
      },
      "source": [
        "%time pool.map(is_prime_cy2,10*[p2])"
      ],
      "execution_count": 0,
      "outputs": [
        {
          "output_type": "stream",
          "text": [
            "CPU times: user 10.1 ms, sys: 4.99 ms, total: 15.1 ms\n",
            "Wall time: 13.4 s\n"
          ],
          "name": "stdout"
        },
        {
          "output_type": "execute_result",
          "data": {
            "text/plain": [
              "[True, True, True, True, True, True, True, True, True, True]"
            ]
          },
          "metadata": {
            "tags": []
          },
          "execution_count": 65
        }
      ]
    },
    {
      "cell_type": "markdown",
      "metadata": {
        "id": "A9Hoec8lyR_l",
        "colab_type": "text"
      },
      "source": [
        "> Parallel processing should be considered whenever different problems of the same type need to be sloved. The effect can be huge when powerful hardware is available with many cores and sufficient working memory. **multiprocessing** is one easy-to-use module from the standard libary."
      ]
    },
    {
      "cell_type": "markdown",
      "metadata": {
        "id": "5TWXgTcky8aa",
        "colab_type": "text"
      },
      "source": [
        "## **Fibonacci Numbers**"
      ]
    },
    {
      "cell_type": "markdown",
      "metadata": {
        "id": "hD2mWbfMzGTQ",
        "colab_type": "text"
      },
      "source": [
        "### **recursive algorithm**"
      ]
    },
    {
      "cell_type": "markdown",
      "metadata": {
        "id": "oeIDMp51zLG5",
        "colab_type": "text"
      },
      "source": [
        "> Similar to regular python loops, it is known that regular recursive function implementations are relatively slow in python. Such functions call themselves potentially a large number of time to come up with final result. the function `fib_rec_py1()` presents such an implementation. In this case, **Numba** does not help at all with speeding up the execution. However, **Cython** shows significant speedups based on the static type declarations only."
      ]
    },
    {
      "cell_type": "code",
      "metadata": {
        "id": "AS99BCSqzFkS",
        "colab_type": "code",
        "colab": {}
      },
      "source": [
        "def fib_rec_py1(n):\n",
        "  if n < 2:\n",
        "    return n\n",
        "  else:\n",
        "    return fib_rec_py1(n-1) + fib_rec_py1(n-2)"
      ],
      "execution_count": 0,
      "outputs": []
    },
    {
      "cell_type": "code",
      "metadata": {
        "id": "UnlQ0ZW00GES",
        "colab_type": "code",
        "outputId": "f667ec1c-a2f3-4347-dc3e-461c1a741fa1",
        "colab": {
          "base_uri": "https://localhost:8080/",
          "height": 68
        }
      },
      "source": [
        "%time fib_rec_py1(35)"
      ],
      "execution_count": 0,
      "outputs": [
        {
          "output_type": "stream",
          "text": [
            "CPU times: user 3.14 s, sys: 983 µs, total: 3.14 s\n",
            "Wall time: 3.15 s\n"
          ],
          "name": "stdout"
        },
        {
          "output_type": "execute_result",
          "data": {
            "text/plain": [
              "9227465"
            ]
          },
          "metadata": {
            "tags": []
          },
          "execution_count": 72
        }
      ]
    },
    {
      "cell_type": "code",
      "metadata": {
        "id": "WmyDVpaV0I9A",
        "colab_type": "code",
        "colab": {}
      },
      "source": [
        "fib_rec_nb = numba.jit(fib_rec_py1)"
      ],
      "execution_count": 0,
      "outputs": []
    },
    {
      "cell_type": "code",
      "metadata": {
        "id": "TXZXxb280a4l",
        "colab_type": "code",
        "outputId": "727f713a-8285-46df-aa62-6049ad9b0ec5",
        "colab": {
          "base_uri": "https://localhost:8080/",
          "height": 564
        }
      },
      "source": [
        "%time fib_rec_nb(35)"
      ],
      "execution_count": 0,
      "outputs": [
        {
          "output_type": "stream",
          "text": [
            "<ipython-input-71-63900613bd49>:1: NumbaWarning: \n",
            "Compilation is falling back to object mode WITH looplifting enabled because Function \"fib_rec_py1\" failed type inference due to: Untyped global name 'fib_rec_py1': cannot determine Numba type of <class 'function'>\n",
            "\n",
            "File \"<ipython-input-71-63900613bd49>\", line 5:\n",
            "def fib_rec_py1(n):\n",
            "    <source elided>\n",
            "  else:\n",
            "    return fib_rec_py1(n-1) + fib_rec_py1(n-2)\n",
            "    ^\n",
            "\n",
            "  def fib_rec_py1(n):\n",
            "/usr/local/lib/python3.6/dist-packages/numba/object_mode_passes.py:178: NumbaWarning: Function \"fib_rec_py1\" was compiled in object mode without forceobj=True.\n",
            "\n",
            "File \"<ipython-input-71-63900613bd49>\", line 1:\n",
            "def fib_rec_py1(n):\n",
            "^\n",
            "\n",
            "  state.func_ir.loc))\n",
            "/usr/local/lib/python3.6/dist-packages/numba/object_mode_passes.py:188: NumbaDeprecationWarning: \n",
            "Fall-back from the nopython compilation path to the object mode compilation path has been detected, this is deprecated behaviour.\n",
            "\n",
            "For more information visit http://numba.pydata.org/numba-doc/latest/reference/deprecation.html#deprecation-of-object-mode-fall-back-behaviour-when-using-jit\n",
            "\n",
            "File \"<ipython-input-71-63900613bd49>\", line 1:\n",
            "def fib_rec_py1(n):\n",
            "^\n",
            "\n",
            "  state.func_ir.loc))\n"
          ],
          "name": "stderr"
        },
        {
          "output_type": "stream",
          "text": [
            "CPU times: user 3.17 s, sys: 2.97 ms, total: 3.17 s\n",
            "Wall time: 3.18 s\n"
          ],
          "name": "stdout"
        },
        {
          "output_type": "execute_result",
          "data": {
            "text/plain": [
              "9227465"
            ]
          },
          "metadata": {
            "tags": []
          },
          "execution_count": 74
        }
      ]
    },
    {
      "cell_type": "code",
      "metadata": {
        "id": "BcvMeCZQ0eu6",
        "colab_type": "code",
        "colab": {}
      },
      "source": [
        "%%cython\n",
        "def fib_rec_cy(int n):\n",
        "  if n < 2:\n",
        "    return n\n",
        "  else:\n",
        "    return fib_rec_cy(n-1) + fib_rec_cy(n-2)"
      ],
      "execution_count": 0,
      "outputs": []
    },
    {
      "cell_type": "code",
      "metadata": {
        "id": "FU-ynTzH0_D_",
        "colab_type": "code",
        "outputId": "6f9bd0ba-a4ac-4e00-f073-cd632ae21795",
        "colab": {
          "base_uri": "https://localhost:8080/",
          "height": 68
        }
      },
      "source": [
        "%time fib_rec_cy(35)"
      ],
      "execution_count": 0,
      "outputs": [
        {
          "output_type": "stream",
          "text": [
            "CPU times: user 800 ms, sys: 2.02 ms, total: 802 ms\n",
            "Wall time: 803 ms\n"
          ],
          "name": "stdout"
        },
        {
          "output_type": "execute_result",
          "data": {
            "text/plain": [
              "9227465"
            ]
          },
          "metadata": {
            "tags": []
          },
          "execution_count": 77
        }
      ]
    },
    {
      "cell_type": "markdown",
      "metadata": {
        "id": "JVL2m94l1UFa",
        "colab_type": "text"
      },
      "source": [
        "> The major problem with recursive algorithm is that intermediate results are not cached but rather recalculated. To avoid this particular problem, a decorator can be used that takes care of the caching of intermediate results. This speeds up the execution by multiple orders of magnitude"
      ]
    },
    {
      "cell_type": "code",
      "metadata": {
        "id": "W9hCGHT51Qr5",
        "colab_type": "code",
        "colab": {}
      },
      "source": [
        "@cache(maxsize=None)\n",
        "def fib_rec_py2(n):\n",
        "  if n <  2:\n",
        "    return n\n",
        "  else:\n",
        "    return fib_rec_py2(n-1)+fib_rec_py2(n-2)"
      ],
      "execution_count": 0,
      "outputs": []
    },
    {
      "cell_type": "code",
      "metadata": {
        "id": "V3iqWy7m2GFD",
        "colab_type": "code",
        "outputId": "47d62a2f-a0ca-41bb-b15e-866d2175a15b",
        "colab": {
          "base_uri": "https://localhost:8080/",
          "height": 68
        }
      },
      "source": [
        "%time fib_rec_py2(35)"
      ],
      "execution_count": 0,
      "outputs": [
        {
          "output_type": "stream",
          "text": [
            "CPU times: user 50 µs, sys: 2 µs, total: 52 µs\n",
            "Wall time: 55.1 µs\n"
          ],
          "name": "stdout"
        },
        {
          "output_type": "execute_result",
          "data": {
            "text/plain": [
              "9227465"
            ]
          },
          "metadata": {
            "tags": []
          },
          "execution_count": 80
        }
      ]
    },
    {
      "cell_type": "markdown",
      "metadata": {
        "id": "yjH8Rlwg2VLa",
        "colab_type": "text"
      },
      "source": [
        "### **Iterative alogrithm**"
      ]
    },
    {
      "cell_type": "markdown",
      "metadata": {
        "id": "mL-f59DL2dYD",
        "colab_type": "text"
      },
      "source": [
        "> Although the algorithm to calucalte the nth Fibonacci number can be implemented recursively, it doesn't have to be. The following presents an iterative implementation which is even in pure Python faster than the cached variant of the recursive implementation. This is also the terrrain where **Numba** leads to further improvements. However, the **cython** version comes out as the winner."
      ]
    },
    {
      "cell_type": "code",
      "metadata": {
        "id": "0qblByiX2I_T",
        "colab_type": "code",
        "colab": {}
      },
      "source": [
        "def fib_it_py(n):\n",
        "  x,y=0,1\n",
        "  for i in range(1,n+1):\n",
        "    x,y = y, x+y\n",
        "  return x"
      ],
      "execution_count": 0,
      "outputs": []
    },
    {
      "cell_type": "code",
      "metadata": {
        "id": "h7GbDoHP3Sad",
        "colab_type": "code",
        "outputId": "48e241ee-972c-40af-da50-e640f4338437",
        "colab": {
          "base_uri": "https://localhost:8080/",
          "height": 68
        }
      },
      "source": [
        "%time fib_it_py(80)"
      ],
      "execution_count": 0,
      "outputs": [
        {
          "output_type": "stream",
          "text": [
            "CPU times: user 14 µs, sys: 0 ns, total: 14 µs\n",
            "Wall time: 19.3 µs\n"
          ],
          "name": "stdout"
        },
        {
          "output_type": "execute_result",
          "data": {
            "text/plain": [
              "23416728348467685"
            ]
          },
          "metadata": {
            "tags": []
          },
          "execution_count": 82
        }
      ]
    },
    {
      "cell_type": "code",
      "metadata": {
        "id": "G3WCY6hY3Y9j",
        "colab_type": "code",
        "colab": {}
      },
      "source": [
        "fib_it_nb = numba.jit(fib_it_py)"
      ],
      "execution_count": 0,
      "outputs": []
    },
    {
      "cell_type": "code",
      "metadata": {
        "id": "rm6hCcPZ3f7B",
        "colab_type": "code",
        "outputId": "f2fb4125-98ad-4db9-fa9e-71e06e32e6c2",
        "colab": {
          "base_uri": "https://localhost:8080/",
          "height": 68
        }
      },
      "source": [
        "%time fib_it_nb(80)"
      ],
      "execution_count": 0,
      "outputs": [
        {
          "output_type": "stream",
          "text": [
            "CPU times: user 71.5 ms, sys: 1.88 ms, total: 73.4 ms\n",
            "Wall time: 79.4 ms\n"
          ],
          "name": "stdout"
        },
        {
          "output_type": "execute_result",
          "data": {
            "text/plain": [
              "23416728348467685"
            ]
          },
          "metadata": {
            "tags": []
          },
          "execution_count": 87
        }
      ]
    },
    {
      "cell_type": "code",
      "metadata": {
        "id": "davJRDAo3jRf",
        "colab_type": "code",
        "outputId": "25235414-90c4-48d6-b0cb-e6d89c6b34e8",
        "colab": {
          "base_uri": "https://localhost:8080/",
          "height": 68
        }
      },
      "source": [
        "%time fib_it_nb(80)"
      ],
      "execution_count": 0,
      "outputs": [
        {
          "output_type": "stream",
          "text": [
            "CPU times: user 10 µs, sys: 0 ns, total: 10 µs\n",
            "Wall time: 13.6 µs\n"
          ],
          "name": "stdout"
        },
        {
          "output_type": "execute_result",
          "data": {
            "text/plain": [
              "23416728348467685"
            ]
          },
          "metadata": {
            "tags": []
          },
          "execution_count": 88
        }
      ]
    },
    {
      "cell_type": "code",
      "metadata": {
        "id": "K7GS5d5q3t2N",
        "colab_type": "code",
        "colab": {}
      },
      "source": [
        "%%cython\n",
        "def fib_it_cy1(int n):\n",
        "  cdef long i\n",
        "  cdef long x = 0, y = 1\n",
        "  for i in range(1,n+1):\n",
        "    x,y = y, x+y\n",
        "  return x"
      ],
      "execution_count": 0,
      "outputs": []
    },
    {
      "cell_type": "code",
      "metadata": {
        "id": "Oex4_FCK39NG",
        "colab_type": "code",
        "outputId": "08dbaae7-fa73-417d-9785-91770e181bfe",
        "colab": {
          "base_uri": "https://localhost:8080/",
          "height": 68
        }
      },
      "source": [
        "%time fib_it_cy1(80)"
      ],
      "execution_count": 0,
      "outputs": [
        {
          "output_type": "stream",
          "text": [
            "CPU times: user 5 µs, sys: 0 ns, total: 5 µs\n",
            "Wall time: 11 µs\n"
          ],
          "name": "stdout"
        },
        {
          "output_type": "execute_result",
          "data": {
            "text/plain": [
              "23416728348467685"
            ]
          },
          "metadata": {
            "tags": []
          },
          "execution_count": 93
        }
      ]
    },
    {
      "cell_type": "markdown",
      "metadata": {
        "id": "ayHLg_fQ4BTL",
        "colab_type": "text"
      },
      "source": [
        "> Now that everything is so fast, one might wonder why we're just calculating the 80th Fibonacci number and not the 150th, for instance. The problem is with the available data types. While python can basically handle arbitrarily large numbers, this is not true in general for the compiled languages. with **Cython** one can however, rely on a special data type to allow for numbers larger than the double float object with 64 bits allows for"
      ]
    },
    {
      "cell_type": "code",
      "metadata": {
        "id": "whVgwF0s4AIv",
        "colab_type": "code",
        "outputId": "3fe7f53f-bee7-42c9-b598-4acb5ea1070b",
        "colab": {
          "base_uri": "https://localhost:8080/",
          "height": 68
        }
      },
      "source": [
        "%%time \n",
        "fn = fib_rec_py2(150)\n",
        "print(fn) # The resulting integer has a bit length of 103(>64)"
      ],
      "execution_count": 0,
      "outputs": [
        {
          "output_type": "stream",
          "text": [
            "9969216677189303386214405760200\n",
            "CPU times: user 542 µs, sys: 0 ns, total: 542 µs\n",
            "Wall time: 550 µs\n"
          ],
          "name": "stdout"
        }
      ]
    },
    {
      "cell_type": "code",
      "metadata": {
        "id": "wxXP0KXF5ChB",
        "colab_type": "code",
        "outputId": "f01e3b32-a143-458f-ff2d-1c7daa8a0000",
        "colab": {
          "base_uri": "https://localhost:8080/",
          "height": 34
        }
      },
      "source": [
        "fn.bit_length()"
      ],
      "execution_count": 0,
      "outputs": [
        {
          "output_type": "execute_result",
          "data": {
            "text/plain": [
              "103"
            ]
          },
          "metadata": {
            "tags": []
          },
          "execution_count": 96
        }
      ]
    },
    {
      "cell_type": "code",
      "metadata": {
        "id": "peif4iPv5PKE",
        "colab_type": "code",
        "outputId": "310051c6-3503-4f05-a266-f42cb86361ed",
        "colab": {
          "base_uri": "https://localhost:8080/",
          "height": 68
        }
      },
      "source": [
        "%%time\n",
        "fn = fib_it_nb(150)\n",
        "print(fn) # The value is incorrect as they suffer from an overflow issue dure to restriction to 64-bit"
      ],
      "execution_count": 0,
      "outputs": [
        {
          "output_type": "stream",
          "text": [
            "6792540214324356296\n",
            "CPU times: user 144 µs, sys: 4 µs, total: 148 µs\n",
            "Wall time: 104 µs\n"
          ],
          "name": "stdout"
        }
      ]
    },
    {
      "cell_type": "code",
      "metadata": {
        "id": "i_DULhah5UfU",
        "colab_type": "code",
        "outputId": "d0b3860a-3557-41e1-f2ae-f719b48737c3",
        "colab": {
          "base_uri": "https://localhost:8080/",
          "height": 34
        }
      },
      "source": [
        "fn.bit_length()"
      ],
      "execution_count": 0,
      "outputs": [
        {
          "output_type": "execute_result",
          "data": {
            "text/plain": [
              "63"
            ]
          },
          "metadata": {
            "tags": []
          },
          "execution_count": 98
        }
      ]
    },
    {
      "cell_type": "code",
      "metadata": {
        "id": "pDGcxDFy5W7S",
        "colab_type": "code",
        "outputId": "7c34315d-7ca4-43f5-efca-fd07f0a213e5",
        "colab": {
          "base_uri": "https://localhost:8080/",
          "height": 68
        }
      },
      "source": [
        "%%time\n",
        "fn = fib_it_cy1(150)\n",
        "print(fn) # The value is incorrect as they suffer from an overflow issue dure to restriction to 64-bit"
      ],
      "execution_count": 0,
      "outputs": [
        {
          "output_type": "stream",
          "text": [
            "6792540214324356296\n",
            "CPU times: user 282 µs, sys: 0 ns, total: 282 µs\n",
            "Wall time: 236 µs\n"
          ],
          "name": "stdout"
        }
      ]
    },
    {
      "cell_type": "code",
      "metadata": {
        "id": "otmrEfjy5d4I",
        "colab_type": "code",
        "outputId": "e6cf04f3-a5bb-4197-e422-451bd52ae3a7",
        "colab": {
          "base_uri": "https://localhost:8080/",
          "height": 34
        }
      },
      "source": [
        "fn.bit_length()"
      ],
      "execution_count": 0,
      "outputs": [
        {
          "output_type": "execute_result",
          "data": {
            "text/plain": [
              "63"
            ]
          },
          "metadata": {
            "tags": []
          },
          "execution_count": 100
        }
      ]
    },
    {
      "cell_type": "code",
      "metadata": {
        "id": "LyxNHpJ35gIG",
        "colab_type": "code",
        "colab": {}
      },
      "source": [
        "%%cython\n",
        "cdef extern from *:\n",
        "  ctypedef int int128 '__int128_t'\n",
        "def fib_it_cy2(int n):\n",
        "  cdef int128 i\n",
        "  cdef int128 x = 0, y= 1\n",
        "  for i in range(1,n+1):\n",
        "    x,y = y, x+y\n",
        "  return x"
      ],
      "execution_count": 0,
      "outputs": []
    },
    {
      "cell_type": "code",
      "metadata": {
        "id": "CzByzD9Q6dvg",
        "colab_type": "code",
        "outputId": "4409f6d7-5a50-4222-b690-5efcb24c0370",
        "colab": {
          "base_uri": "https://localhost:8080/",
          "height": 68
        }
      },
      "source": [
        "%%time\n",
        "fn = fib_it_cy2(150)\n",
        "print(fn)"
      ],
      "execution_count": 0,
      "outputs": [
        {
          "output_type": "stream",
          "text": [
            "9969216677189303386214405760200\n",
            "CPU times: user 292 µs, sys: 10 µs, total: 302 µs\n",
            "Wall time: 227 µs\n"
          ],
          "name": "stdout"
        }
      ]
    },
    {
      "cell_type": "markdown",
      "metadata": {
        "id": "Trm5DDF36qSc",
        "colab_type": "text"
      },
      "source": [
        "## **The Number Pi**"
      ]
    },
    {
      "cell_type": "markdown",
      "metadata": {
        "id": "ifSSnwh96tM6",
        "colab_type": "text"
      },
      "source": [
        "> The final alofrithm analyzed in this section is **Monte Carlo** simulation-based algorithm to derive digits for the number pi $(\\pi)$. The basic idea relies on the fact that the area A of a circle is given by $A=\\pi r^{2}$. Therefore $\\pi= \\frac{A}{r^{2}}$. For a unit circle with $r=1$, it holds that $\\pi = A$. The idea of the algorithm is to simulate random points with coordinate values $(x,y)$ with $x,y \\in [-1,1]$. The area of an origin-centered square with side length of 2 is exactly 4. The area of the origin-centered unit circle is a fraction of the area of such a square. This fraction can be estimated by Monte Carlo simulation: count all the points in the square, then count all the points in the circle, and divide the number of points in the circle by the number of points in the square."
      ]
    },
    {
      "cell_type": "code",
      "metadata": {
        "id": "zHgRI1pF6km-",
        "colab_type": "code",
        "colab": {}
      },
      "source": [
        "rn = [(random.random()*2-1,random.random()*2-1) for _ in range(500)]"
      ],
      "execution_count": 0,
      "outputs": []
    },
    {
      "cell_type": "code",
      "metadata": {
        "id": "I5Ynvz1s9eDQ",
        "colab_type": "code",
        "outputId": "319697bf-fdc6-468d-f7a0-e774a9f94fa7",
        "colab": {
          "base_uri": "https://localhost:8080/",
          "height": 102
        }
      },
      "source": [
        "rn = np.array(rn)\n",
        "rn[:5]"
      ],
      "execution_count": 0,
      "outputs": [
        {
          "output_type": "execute_result",
          "data": {
            "text/plain": [
              "array([[-0.0199362 ,  0.27145721],\n",
              "       [-0.30558951,  0.92497832],\n",
              "       [-0.65877678,  0.41462399],\n",
              "       [ 0.03947272,  0.6391871 ],\n",
              "       [-0.4271765 ,  0.86857045]])"
            ]
          },
          "metadata": {
            "tags": []
          },
          "execution_count": 107
        }
      ]
    },
    {
      "cell_type": "code",
      "metadata": {
        "id": "mAxqAMmG9hvO",
        "colab_type": "code",
        "outputId": "c6ed6d71-b298-450b-cfc2-f0c45cb8f4f4",
        "colab": {
          "base_uri": "https://localhost:8080/",
          "height": 444
        }
      },
      "source": [
        "fig = plt.figure(figsize=(7,7))\n",
        "ax = fig.add_subplot(1,1,1)\n",
        "circ = plt.Circle((0,0),radius=1,edgecolor='g',lw=2.0,facecolor='None')\n",
        "box = plt.Rectangle((-1,-1),2,2,edgecolor='b',alpha=0.3)\n",
        "ax.add_patch(circ)\n",
        "ax.add_patch(box)\n",
        "plt.plot(rn[:,0],rn[:,1],'r.')\n",
        "plt.ylim(-1.1,1.1)\n",
        "plt.xlim(-1.1,1.1)"
      ],
      "execution_count": 0,
      "outputs": [
        {
          "output_type": "execute_result",
          "data": {
            "text/plain": [
              "(-1.1, 1.1)"
            ]
          },
          "metadata": {
            "tags": []
          },
          "execution_count": 109
        },
        {
          "output_type": "display_data",
          "data": {
            "image/png": "[encoded data removed]",
            "text/plain": [
              "<Figure size 504x504 with 1 Axes>"
            ]
          },
          "metadata": {
            "tags": [],
            "needs_background": "light"
          }
        }
      ]
    },
    {
      "cell_type": "markdown",
      "metadata": {
        "id": "K2sjm6un-ePM",
        "colab_type": "text"
      },
      "source": [
        "> A **NumPy** implementation of this algorithm is rather concise but also memory-intensive. Total execution time given the parameterization is about one second."
      ]
    },
    {
      "cell_type": "code",
      "metadata": {
        "id": "_uPG6LjE-Nek",
        "colab_type": "code",
        "colab": {}
      },
      "source": [
        "n = int(1e7)"
      ],
      "execution_count": 0,
      "outputs": []
    },
    {
      "cell_type": "code",
      "metadata": {
        "id": "9joPPeM6-xWI",
        "colab_type": "code",
        "outputId": "6ccafd41-ccef-403a-c9b7-63c67d019e04",
        "colab": {
          "base_uri": "https://localhost:8080/",
          "height": 51
        }
      },
      "source": [
        "%time rn = np.random.random((n,2)) * 2 - 1"
      ],
      "execution_count": 0,
      "outputs": [
        {
          "output_type": "stream",
          "text": [
            "CPU times: user 202 ms, sys: 165 ms, total: 368 ms\n",
            "Wall time: 370 ms\n"
          ],
          "name": "stdout"
        }
      ]
    },
    {
      "cell_type": "code",
      "metadata": {
        "id": "a3WnACv5-8qY",
        "colab_type": "code",
        "outputId": "05c0f512-4107-4d94-a560-fc46025d7a39",
        "colab": {
          "base_uri": "https://localhost:8080/",
          "height": 34
        }
      },
      "source": [
        "rn.nbytes"
      ],
      "execution_count": 0,
      "outputs": [
        {
          "output_type": "execute_result",
          "data": {
            "text/plain": [
              "160000000"
            ]
          },
          "metadata": {
            "tags": []
          },
          "execution_count": 113
        }
      ]
    },
    {
      "cell_type": "code",
      "metadata": {
        "id": "pQm04LpE-_F3",
        "colab_type": "code",
        "outputId": "c2794688-f4e8-4ba8-fb60-13a7370400aa",
        "colab": {
          "base_uri": "https://localhost:8080/",
          "height": 68
        }
      },
      "source": [
        "%time distance = np.sqrt((rn**2).sum(axis=1))\n",
        "distance[:8].round(3)"
      ],
      "execution_count": 0,
      "outputs": [
        {
          "output_type": "stream",
          "text": [
            "CPU times: user 193 ms, sys: 0 ns, total: 193 ms\n",
            "Wall time: 194 ms\n"
          ],
          "name": "stdout"
        },
        {
          "output_type": "execute_result",
          "data": {
            "text/plain": [
              "array([0.162, 0.752, 0.388, 0.921, 0.865, 0.891, 0.844, 0.586])"
            ]
          },
          "metadata": {
            "tags": []
          },
          "execution_count": 120
        }
      ]
    },
    {
      "cell_type": "code",
      "metadata": {
        "id": "zHqp7ONp_LhV",
        "colab_type": "code",
        "outputId": "1af91f6d-9f28-4181-97a8-7b3f52539f5b",
        "colab": {
          "base_uri": "https://localhost:8080/",
          "height": 51
        }
      },
      "source": [
        "%time frac = (distance <= 1.0).sum() / len(distance)"
      ],
      "execution_count": 0,
      "outputs": [
        {
          "output_type": "stream",
          "text": [
            "CPU times: user 22 ms, sys: 0 ns, total: 22 ms\n",
            "Wall time: 24.2 ms\n"
          ],
          "name": "stdout"
        }
      ]
    },
    {
      "cell_type": "code",
      "metadata": {
        "id": "FYwdG0x5_TrU",
        "colab_type": "code",
        "colab": {}
      },
      "source": [
        "pi_mcs = frac * 4"
      ],
      "execution_count": 0,
      "outputs": []
    },
    {
      "cell_type": "code",
      "metadata": {
        "id": "CoINkVip_YEm",
        "colab_type": "code",
        "outputId": "4c9e434f-14d0-48e2-a0b2-9c244b93261f",
        "colab": {
          "base_uri": "https://localhost:8080/",
          "height": 34
        }
      },
      "source": [
        "pi_mcs"
      ],
      "execution_count": 0,
      "outputs": [
        {
          "output_type": "execute_result",
          "data": {
            "text/plain": [
              "3.1421444"
            ]
          },
          "metadata": {
            "tags": []
          },
          "execution_count": 123
        }
      ]
    },
    {
      "cell_type": "code",
      "metadata": {
        "id": "GO8wSlco_ZVW",
        "colab_type": "code",
        "colab": {}
      },
      "source": [
        "def mcs_pi_py(n):\n",
        "  circle = 0\n",
        "  for _ in range(n):\n",
        "    x,y = random.random(), random.random()\n",
        "    if (x**2+y**2)**0.5 <= 1:\n",
        "      circle += 1\n",
        "  return (4*circle)/n"
      ],
      "execution_count": 0,
      "outputs": []
    },
    {
      "cell_type": "code",
      "metadata": {
        "id": "8pok11sIAMA1",
        "colab_type": "code",
        "outputId": "2a9dd611-a274-41dd-b71f-d64be366372f",
        "colab": {
          "base_uri": "https://localhost:8080/",
          "height": 68
        }
      },
      "source": [
        "%time mcs_pi_py(n)"
      ],
      "execution_count": 0,
      "outputs": [
        {
          "output_type": "stream",
          "text": [
            "CPU times: user 4.87 s, sys: 1.48 ms, total: 4.87 s\n",
            "Wall time: 4.88 s\n"
          ],
          "name": "stdout"
        },
        {
          "output_type": "execute_result",
          "data": {
            "text/plain": [
              "3.1424092"
            ]
          },
          "metadata": {
            "tags": []
          },
          "execution_count": 125
        }
      ]
    },
    {
      "cell_type": "code",
      "metadata": {
        "id": "tnBXNzaeAOgb",
        "colab_type": "code",
        "colab": {}
      },
      "source": [
        "mcs_pi_nb = numba.jit(mcs_pi_py)"
      ],
      "execution_count": 0,
      "outputs": []
    },
    {
      "cell_type": "code",
      "metadata": {
        "id": "U6BEDPExAWSP",
        "colab_type": "code",
        "outputId": "a575b609-37f7-48d5-c094-074565b787e9",
        "colab": {
          "base_uri": "https://localhost:8080/",
          "height": 68
        }
      },
      "source": [
        "%time mcs_pi_nb(n)"
      ],
      "execution_count": 0,
      "outputs": [
        {
          "output_type": "stream",
          "text": [
            "CPU times: user 346 ms, sys: 6.97 ms, total: 353 ms\n",
            "Wall time: 360 ms\n"
          ],
          "name": "stdout"
        },
        {
          "output_type": "execute_result",
          "data": {
            "text/plain": [
              "3.1414204"
            ]
          },
          "metadata": {
            "tags": []
          },
          "execution_count": 127
        }
      ]
    },
    {
      "cell_type": "code",
      "metadata": {
        "id": "URa0eoIaAYmu",
        "colab_type": "code",
        "outputId": "b8f7ae49-42d1-4b19-8d9b-b313ad78c7d6",
        "colab": {
          "base_uri": "https://localhost:8080/",
          "height": 68
        }
      },
      "source": [
        "%time mcs_pi_nb(n)"
      ],
      "execution_count": 0,
      "outputs": [
        {
          "output_type": "stream",
          "text": [
            "CPU times: user 149 ms, sys: 0 ns, total: 149 ms\n",
            "Wall time: 149 ms\n"
          ],
          "name": "stdout"
        },
        {
          "output_type": "execute_result",
          "data": {
            "text/plain": [
              "3.1421232"
            ]
          },
          "metadata": {
            "tags": []
          },
          "execution_count": 128
        }
      ]
    },
    {
      "cell_type": "code",
      "metadata": {
        "id": "dKKAxUP9AbAa",
        "colab_type": "code",
        "colab": {}
      },
      "source": [
        "%%cython\n",
        "import random\n",
        "def mcs_pi_cy1(int n):\n",
        "  cdef int i, circle = 0\n",
        "  cdef float x,y\n",
        "  for i in range(n):\n",
        "    x,y = random.random(), random.random()\n",
        "    if (x**2+y**2)**0.5 <= 1:\n",
        "      circle += 1\n",
        "  return (4*circle)/n"
      ],
      "execution_count": 0,
      "outputs": []
    },
    {
      "cell_type": "code",
      "metadata": {
        "id": "adrfvxozAuBe",
        "colab_type": "code",
        "outputId": "24ff652b-c914-47d3-bd05-eb2592c9d9ea",
        "colab": {
          "base_uri": "https://localhost:8080/",
          "height": 68
        }
      },
      "source": [
        "%time mcs_pi_cy1(n)"
      ],
      "execution_count": 0,
      "outputs": [
        {
          "output_type": "stream",
          "text": [
            "CPU times: user 1.81 s, sys: 5.83 ms, total: 1.81 s\n",
            "Wall time: 1.81 s\n"
          ],
          "name": "stdout"
        },
        {
          "output_type": "execute_result",
          "data": {
            "text/plain": [
              "3.1406364"
            ]
          },
          "metadata": {
            "tags": []
          },
          "execution_count": 140
        }
      ]
    },
    {
      "cell_type": "code",
      "metadata": {
        "id": "XWydgqm4AyQ-",
        "colab_type": "code",
        "colab": {}
      },
      "source": [
        "%%cython\n",
        "from libc.stdlib cimport rand\n",
        "cdef extern from 'limits.h':\n",
        "  int INT_MAX\n",
        "def mcs_pi_cy2(int n):\n",
        "  cdef int i, circle = 0\n",
        "  cdef float x,y\n",
        "  for i in range(n):\n",
        "    x,y = rand()/INT_MAX, rand()/INT_MAX\n",
        "    if (x**2+y**2)**0.5 <= 1:\n",
        "      circle += 1\n",
        "  return (4*circle)/n"
      ],
      "execution_count": 0,
      "outputs": []
    },
    {
      "cell_type": "code",
      "metadata": {
        "id": "EzIk9xBhBHxQ",
        "colab_type": "code",
        "outputId": "36e2d147-ce22-4d67-ce26-a48bb81319a2",
        "colab": {
          "base_uri": "https://localhost:8080/",
          "height": 68
        }
      },
      "source": [
        "%time mcs_pi_cy2(n)"
      ],
      "execution_count": 0,
      "outputs": [
        {
          "output_type": "stream",
          "text": [
            "CPU times: user 1.13 s, sys: 4.84 ms, total: 1.13 s\n",
            "Wall time: 1.14 s\n"
          ],
          "name": "stdout"
        },
        {
          "output_type": "execute_result",
          "data": {
            "text/plain": [
              "3.141952"
            ]
          },
          "metadata": {
            "tags": []
          },
          "execution_count": 142
        }
      ]
    },
    {
      "cell_type": "markdown",
      "metadata": {
        "id": "E0L2XJ4GBq31",
        "colab_type": "text"
      },
      "source": [
        "# **Binomial Trees**"
      ]
    },
    {
      "cell_type": "markdown",
      "metadata": {
        "id": "Jg_ZUnSEuFZL",
        "colab_type": "text"
      },
      "source": [
        "> A popular numerical method to value options is the binomial option pricing model pioneered by Cox, Ross, and Rubinstein. This method relies on representing the possible future evolution of an *asset* by a (recombining) tree. In this model, as in the Black-Scholes-Merton setup, there is a *risky asset*, an index or stock, and *riskless asset*, a bond. The relevant time interval from today until the maturity of the option is divided in general into equidistant subintervals of length $\\Delta t$. Given an index level at time $s$ of $S_s$, the index level at $t=s + \\Delta t$ is given by $S_t = S_s . m$, where $m$ is choose randomly from $\\{u,d\\}$ with $o < d < e^{r \\Delta t} < u = e^{\\sigma \\sqrt{\\Delta t}}$ as well as $u = \\frac{1}{d} . r$ is the constant, riskless short rate."
      ]
    },
    {
      "cell_type": "markdown",
      "metadata": {
        "id": "h485oneQxuuN",
        "colab_type": "text"
      },
      "source": [
        "> ## **Python**"
      ]
    },
    {
      "cell_type": "code",
      "metadata": {
        "id": "chEwvU5Dv0AL",
        "colab_type": "code",
        "colab": {}
      },
      "source": [
        "S0 = 36. # initial value of the risky asset\n",
        "T = 1.0 # Time horizon for the binomial tree simulation\n",
        "r = 0.06 # Constant short rate\n",
        "sigma = 0.2 # Constant volatility factor"
      ],
      "execution_count": 0,
      "outputs": []
    },
    {
      "cell_type": "code",
      "metadata": {
        "id": "caq7OBeWyEbh",
        "colab_type": "code",
        "colab": {}
      },
      "source": [
        "def simulate_tree(M):\n",
        "  dt = T/M # Length of the time intervals\n",
        "  u = math.exp(sigma*math.sqrt(dt)) # Factors for the upward and downward movements.\n",
        "  d = 1 / u\n",
        "  S = np.zeros((M+1,M+1))\n",
        "  S[0,0] = S0\n",
        "  z = 1\n",
        "  for t in range(1, M+1):\n",
        "    for i in range(z):\n",
        "      S[i,t] = S[i,t-1] * u\n",
        "      S[i+1,t] = S[i,t-1] * d\n",
        "    z += 1\n",
        "  return S"
      ],
      "execution_count": 0,
      "outputs": []
    },
    {
      "cell_type": "markdown",
      "metadata": {
        "id": "EtAHPYAxzYZA",
        "colab_type": "text"
      },
      "source": [
        "Contrary to what happens in typical tree plots, an upward movement is represented in the **ndarray** object as a sideways movement, which decreases the **ndarray** size considerably"
      ]
    },
    {
      "cell_type": "code",
      "metadata": {
        "id": "ECSeyT5hzsh6",
        "colab_type": "code",
        "colab": {}
      },
      "source": [
        "np.set_printoptions(formatter={'float':lambda x: '%6.2f' % x})"
      ],
      "execution_count": 0,
      "outputs": []
    },
    {
      "cell_type": "code",
      "metadata": {
        "id": "ioM27ysmz6in",
        "colab_type": "code",
        "colab": {
          "base_uri": "https://localhost:8080/",
          "height": 102
        },
        "outputId": "ea84627d-a642-4bbb-d95e-98d21b3c1c3c"
      },
      "source": [
        "simulate_tree(4)"
      ],
      "execution_count": 6,
      "outputs": [
        {
          "output_type": "execute_result",
          "data": {
            "text/plain": [
              "array([[ 36.00,  39.79,  43.97,  48.59,  53.71],\n",
              "       [  0.00,  32.57,  36.00,  39.79,  43.97],\n",
              "       [  0.00,   0.00,  29.47,  32.57,  36.00],\n",
              "       [  0.00,   0.00,   0.00,  26.67,  29.47],\n",
              "       [  0.00,   0.00,   0.00,   0.00,  24.13]])"
            ]
          },
          "metadata": {
            "tags": []
          },
          "execution_count": 6
        }
      ]
    },
    {
      "cell_type": "code",
      "metadata": {
        "id": "dDaYbVVV0C5A",
        "colab_type": "code",
        "colab": {
          "base_uri": "https://localhost:8080/",
          "height": 170
        },
        "outputId": "74ea0534-a256-42f4-fc08-7e6c9d4a4ad4"
      },
      "source": [
        "%time simulate_tree(500)"
      ],
      "execution_count": 7,
      "outputs": [
        {
          "output_type": "stream",
          "text": [
            "CPU times: user 129 ms, sys: 1.64 ms, total: 131 ms\n",
            "Wall time: 134 ms\n"
          ],
          "name": "stdout"
        },
        {
          "output_type": "execute_result",
          "data": {
            "text/plain": [
              "array([[ 36.00,  36.32,  36.65, ..., 3095.69, 3123.50, 3151.57],\n",
              "       [  0.00,  35.68,  36.00, ..., 3040.81, 3068.13, 3095.69],\n",
              "       [  0.00,   0.00,  35.36, ..., 2986.89, 3013.73, 3040.81],\n",
              "       ...,\n",
              "       [  0.00,   0.00,   0.00, ...,   0.42,   0.42,   0.43],\n",
              "       [  0.00,   0.00,   0.00, ...,   0.00,   0.41,   0.42],\n",
              "       [  0.00,   0.00,   0.00, ...,   0.00,   0.00,   0.41]])"
            ]
          },
          "metadata": {
            "tags": []
          },
          "execution_count": 7
        }
      ]
    },
    {
      "cell_type": "markdown",
      "metadata": {
        "id": "VsRWJiQi0adC",
        "colab_type": "text"
      },
      "source": [
        "## **NumPy**"
      ]
    },
    {
      "cell_type": "markdown",
      "metadata": {
        "id": "2zpGS6F50dRK",
        "colab_type": "text"
      },
      "source": [
        "> With some trickery, such a binomial tree can be created with **NumPy** based on fully vectorized code."
      ]
    },
    {
      "cell_type": "code",
      "metadata": {
        "id": "d4pPXhHS0Nhc",
        "colab_type": "code",
        "colab": {}
      },
      "source": [
        "M = 4"
      ],
      "execution_count": 0,
      "outputs": []
    },
    {
      "cell_type": "code",
      "metadata": {
        "id": "3llnM0Ty0pD7",
        "colab_type": "code",
        "colab": {
          "base_uri": "https://localhost:8080/",
          "height": 34
        },
        "outputId": "35d8ee84-d0c1-41a3-fe53-4db57bd97547"
      },
      "source": [
        "up = np.arange(M+1)\n",
        "up"
      ],
      "execution_count": 20,
      "outputs": [
        {
          "output_type": "execute_result",
          "data": {
            "text/plain": [
              "array([0, 1, 2, 3, 4])"
            ]
          },
          "metadata": {
            "tags": []
          },
          "execution_count": 20
        }
      ]
    },
    {
      "cell_type": "code",
      "metadata": {
        "id": "3nRlVVQm01yz",
        "colab_type": "code",
        "colab": {
          "base_uri": "https://localhost:8080/",
          "height": 102
        },
        "outputId": "f1a58d94-cd74-4053-a845-f58656b334e0"
      },
      "source": [
        "up = np.resize(up,(M+1,M+1)) # ndarray object with gross upward movements\n",
        "up"
      ],
      "execution_count": 22,
      "outputs": [
        {
          "output_type": "execute_result",
          "data": {
            "text/plain": [
              "array([[0, 1, 2, 3, 4],\n",
              "       [0, 1, 2, 3, 4],\n",
              "       [0, 1, 2, 3, 4],\n",
              "       [0, 1, 2, 3, 4],\n",
              "       [0, 1, 2, 3, 4]])"
            ]
          },
          "metadata": {
            "tags": []
          },
          "execution_count": 22
        }
      ]
    },
    {
      "cell_type": "code",
      "metadata": {
        "id": "vOh0c3xC0_qa",
        "colab_type": "code",
        "colab": {
          "base_uri": "https://localhost:8080/",
          "height": 102
        },
        "outputId": "f04d7554-20e9-4438-fc3c-b5395806494b"
      },
      "source": [
        "down = up.T * 2 # ndarray object with gross downward movements (up.T is transpose)\n",
        "down"
      ],
      "execution_count": 25,
      "outputs": [
        {
          "output_type": "execute_result",
          "data": {
            "text/plain": [
              "array([[0, 0, 0, 0, 0],\n",
              "       [2, 2, 2, 2, 2],\n",
              "       [4, 4, 4, 4, 4],\n",
              "       [6, 6, 6, 6, 6],\n",
              "       [8, 8, 8, 8, 8]])"
            ]
          },
          "metadata": {
            "tags": []
          },
          "execution_count": 25
        }
      ]
    },
    {
      "cell_type": "code",
      "metadata": {
        "id": "pNzDbq4G1pMn",
        "colab_type": "code",
        "colab": {
          "base_uri": "https://localhost:8080/",
          "height": 102
        },
        "outputId": "7502d853-d48f-4e62-a9f7-e99d488028be"
      },
      "source": [
        "up - down # object with net upward (positive) and downward (negative) movements"
      ],
      "execution_count": 27,
      "outputs": [
        {
          "output_type": "execute_result",
          "data": {
            "text/plain": [
              "array([[ 0,  1,  2,  3,  4],\n",
              "       [-2, -1,  0,  1,  2],\n",
              "       [-4, -3, -2, -1,  0],\n",
              "       [-6, -5, -4, -3, -2],\n",
              "       [-8, -7, -6, -5, -4]])"
            ]
          },
          "metadata": {
            "tags": []
          },
          "execution_count": 27
        }
      ]
    },
    {
      "cell_type": "code",
      "metadata": {
        "id": "FFLoosQh173C",
        "colab_type": "code",
        "colab": {}
      },
      "source": [
        "dt = T/M"
      ],
      "execution_count": 0,
      "outputs": []
    },
    {
      "cell_type": "code",
      "metadata": {
        "id": "adgZESdw2O07",
        "colab_type": "code",
        "colab": {
          "base_uri": "https://localhost:8080/",
          "height": 102
        },
        "outputId": "02301136-9b73-4a70-efd4-a9f155fd10e6"
      },
      "source": [
        "S0*np.exp(sigma * math.sqrt(dt)*(up-down))"
      ],
      "execution_count": 29,
      "outputs": [
        {
          "output_type": "execute_result",
          "data": {
            "text/plain": [
              "array([[ 36.00,  39.79,  43.97,  48.59,  53.71],\n",
              "       [ 29.47,  32.57,  36.00,  39.79,  43.97],\n",
              "       [ 24.13,  26.67,  29.47,  32.57,  36.00],\n",
              "       [ 19.76,  21.84,  24.13,  26.67,  29.47],\n",
              "       [ 16.18,  17.88,  19.76,  21.84,  24.13]])"
            ]
          },
          "metadata": {
            "tags": []
          },
          "execution_count": 29
        }
      ]
    },
    {
      "cell_type": "code",
      "metadata": {
        "id": "2O7K8C852WNa",
        "colab_type": "code",
        "colab": {}
      },
      "source": [
        "def simulate_tree_np(M):\n",
        "  dt = T/M\n",
        "  up = np.arange(M+1)\n",
        "  up = np.resize(up,(M+1,M+1)) \n",
        "  down = up.transpose() * 2\n",
        "  s = S0*np.exp(sigma * math.sqrt(dt)*(up-down))\n",
        "  return s"
      ],
      "execution_count": 0,
      "outputs": []
    },
    {
      "cell_type": "code",
      "metadata": {
        "id": "QrhgJ5jv2wb2",
        "colab_type": "code",
        "colab": {
          "base_uri": "https://localhost:8080/",
          "height": 102
        },
        "outputId": "8a0b0b54-3a06-4f8e-d1e8-9fc82197898f"
      },
      "source": [
        "simulate_tree_np(4)"
      ],
      "execution_count": 31,
      "outputs": [
        {
          "output_type": "execute_result",
          "data": {
            "text/plain": [
              "array([[ 36.00,  39.79,  43.97,  48.59,  53.71],\n",
              "       [ 29.47,  32.57,  36.00,  39.79,  43.97],\n",
              "       [ 24.13,  26.67,  29.47,  32.57,  36.00],\n",
              "       [ 19.76,  21.84,  24.13,  26.67,  29.47],\n",
              "       [ 16.18,  17.88,  19.76,  21.84,  24.13]])"
            ]
          },
          "metadata": {
            "tags": []
          },
          "execution_count": 31
        }
      ]
    },
    {
      "cell_type": "code",
      "metadata": {
        "id": "OcTzL83n2ylc",
        "colab_type": "code",
        "colab": {
          "base_uri": "https://localhost:8080/",
          "height": 170
        },
        "outputId": "66245267-c390-41f0-973c-36109544b619"
      },
      "source": [
        "%time simulate_tree_np(500)"
      ],
      "execution_count": 42,
      "outputs": [
        {
          "output_type": "stream",
          "text": [
            "CPU times: user 9.96 ms, sys: 1.21 ms, total: 11.2 ms\n",
            "Wall time: 14.6 ms\n"
          ],
          "name": "stdout"
        },
        {
          "output_type": "execute_result",
          "data": {
            "text/plain": [
              "array([[ 36.00,  36.32,  36.65, ..., 3095.69, 3123.50, 3151.57],\n",
              "       [ 35.36,  35.68,  36.00, ..., 3040.81, 3068.13, 3095.69],\n",
              "       [ 34.73,  35.05,  35.36, ..., 2986.89, 3013.73, 3040.81],\n",
              "       ...,\n",
              "       [  0.00,   0.00,   0.00, ...,   0.42,   0.42,   0.43],\n",
              "       [  0.00,   0.00,   0.00, ...,   0.41,   0.41,   0.42],\n",
              "       [  0.00,   0.00,   0.00, ...,   0.40,   0.41,   0.41]])"
            ]
          },
          "metadata": {
            "tags": []
          },
          "execution_count": 42
        }
      ]
    },
    {
      "cell_type": "markdown",
      "metadata": {
        "id": "atmAWoOQ26RP",
        "colab_type": "text"
      },
      "source": [
        "## **Numba**"
      ]
    },
    {
      "cell_type": "markdown",
      "metadata": {
        "id": "1idAX98028zX",
        "colab_type": "text"
      },
      "source": [
        "> This financial algorithm should be well suited to optimization through **Numba** dynamic compilation. And indeed, another speedup compared to the **NumPy** version of an order of magnitude is observed. This makes the **Numba** version orders of magnitude faster than the python"
      ]
    },
    {
      "cell_type": "code",
      "metadata": {
        "id": "iRs0k3gg21uA",
        "colab_type": "code",
        "colab": {}
      },
      "source": [
        "simulate_tree_nb = numba.jit(simulate_tree)"
      ],
      "execution_count": 0,
      "outputs": []
    },
    {
      "cell_type": "code",
      "metadata": {
        "id": "TvdmwdKi3eV9",
        "colab_type": "code",
        "colab": {
          "base_uri": "https://localhost:8080/",
          "height": 102
        },
        "outputId": "db44185e-d0c1-414c-8383-91337d73f4f6"
      },
      "source": [
        "simulate_tree_nb(4)"
      ],
      "execution_count": 34,
      "outputs": [
        {
          "output_type": "execute_result",
          "data": {
            "text/plain": [
              "array([[ 36.00,  39.79,  43.97,  48.59,  53.71],\n",
              "       [  0.00,  32.57,  36.00,  39.79,  43.97],\n",
              "       [  0.00,   0.00,  29.47,  32.57,  36.00],\n",
              "       [  0.00,   0.00,   0.00,  26.67,  29.47],\n",
              "       [  0.00,   0.00,   0.00,   0.00,  24.13]])"
            ]
          },
          "metadata": {
            "tags": []
          },
          "execution_count": 34
        }
      ]
    },
    {
      "cell_type": "code",
      "metadata": {
        "id": "yM8oO5BL3g0T",
        "colab_type": "code",
        "colab": {
          "base_uri": "https://localhost:8080/",
          "height": 170
        },
        "outputId": "6d3ded45-bbb0-4c5e-cb4e-9d09de383264"
      },
      "source": [
        "%time simulate_tree_nb(500)"
      ],
      "execution_count": 41,
      "outputs": [
        {
          "output_type": "stream",
          "text": [
            "CPU times: user 906 µs, sys: 0 ns, total: 906 µs\n",
            "Wall time: 917 µs\n"
          ],
          "name": "stdout"
        },
        {
          "output_type": "execute_result",
          "data": {
            "text/plain": [
              "array([[ 36.00,  36.32,  36.65, ..., 3095.69, 3123.50, 3151.57],\n",
              "       [  0.00,  35.68,  36.00, ..., 3040.81, 3068.13, 3095.69],\n",
              "       [  0.00,   0.00,  35.36, ..., 2986.89, 3013.73, 3040.81],\n",
              "       ...,\n",
              "       [  0.00,   0.00,   0.00, ...,   0.42,   0.42,   0.43],\n",
              "       [  0.00,   0.00,   0.00, ...,   0.00,   0.41,   0.42],\n",
              "       [  0.00,   0.00,   0.00, ...,   0.00,   0.00,   0.41]])"
            ]
          },
          "metadata": {
            "tags": []
          },
          "execution_count": 41
        }
      ]
    },
    {
      "cell_type": "markdown",
      "metadata": {
        "id": "MapV6WGK3m6L",
        "colab_type": "text"
      },
      "source": [
        "## **Cython**"
      ]
    },
    {
      "cell_type": "markdown",
      "metadata": {
        "id": "zIMtjxBl3pWh",
        "colab_type": "text"
      },
      "source": [
        "> As before, **Cython** requires more adjustments to the code to see significant improvements. The following version uses mainly static type declarations and certain imports that improve the performance comapred to the regular python imports and functions, respectively."
      ]
    },
    {
      "cell_type": "code",
      "metadata": {
        "id": "2vq8oESy50zx",
        "colab_type": "code",
        "colab": {
          "base_uri": "https://localhost:8080/",
          "height": 51
        },
        "outputId": "b867432d-0a65-4d6e-f74a-9949b5d34505"
      },
      "source": [
        "%load_ext Cython"
      ],
      "execution_count": 50,
      "outputs": [
        {
          "output_type": "stream",
          "text": [
            "The Cython extension is already loaded. To reload it, use:\n",
            "  %reload_ext Cython\n"
          ],
          "name": "stdout"
        }
      ]
    },
    {
      "cell_type": "code",
      "metadata": {
        "id": "gm3loPwh3kT6",
        "colab_type": "code",
        "colab": {}
      },
      "source": [
        "%%cython\n",
        "import numpy as np\n",
        "cimport cython\n",
        "from libc.math cimport exp, sqrt\n",
        "cdef float S0= 63.\n",
        "cdef float T = 1.0 \n",
        "cdef float r = 0.06 \n",
        "cdef float sigma = 0.2 \n",
        "def simulate_tree_cy(int M):\n",
        "  cdef int z, t, i\n",
        "  cdef float dt, u, d\n",
        "  cdef float[:,:] S = np.zeros((M+1,M+1),dtype=np.float32)\n",
        "  dt = T/M \n",
        "  u = exp(sigma * sqrt(dt))\n",
        "  d = 1 / u\n",
        "  S[0,0] = S0\n",
        "  z = 1\n",
        "  for t in range(1, M+1):\n",
        "    for i in range(z):\n",
        "      S[i,t] = S[i,t-1] * u\n",
        "      S[i+1,t] = S[i,t-1] * d\n",
        "    z += 1\n",
        "  return np.array(S)"
      ],
      "execution_count": 0,
      "outputs": []
    },
    {
      "cell_type": "code",
      "metadata": {
        "id": "7L__lkuM5o63",
        "colab_type": "code",
        "colab": {
          "base_uri": "https://localhost:8080/",
          "height": 102
        },
        "outputId": "fac57568-ee7d-48e3-94b5-d48e8c161e24"
      },
      "source": [
        "simulate_tree_cy(4)"
      ],
      "execution_count": 52,
      "outputs": [
        {
          "output_type": "execute_result",
          "data": {
            "text/plain": [
              "array([[ 63.00,  69.63,  76.95,  85.04,  93.98],\n",
              "       [  0.00,  57.00,  63.00,  69.63,  76.95],\n",
              "       [  0.00,   0.00,  51.58,  57.00,  63.00],\n",
              "       [  0.00,   0.00,   0.00,  46.67,  51.58],\n",
              "       [  0.00,   0.00,   0.00,   0.00,  42.23]], dtype=float32)"
            ]
          },
          "metadata": {
            "tags": []
          },
          "execution_count": 52
        }
      ]
    },
    {
      "cell_type": "code",
      "metadata": {
        "id": "R-5QL8U257lN",
        "colab_type": "code",
        "colab": {
          "base_uri": "https://localhost:8080/",
          "height": 187
        },
        "outputId": "8ce09ec9-d87c-41c4-af9d-b70e49d46c96"
      },
      "source": [
        "%time simulate_tree_cy(500)"
      ],
      "execution_count": 56,
      "outputs": [
        {
          "output_type": "stream",
          "text": [
            "CPU times: user 0 ns, sys: 1.97 ms, total: 1.97 ms\n",
            "Wall time: 1.29 ms\n"
          ],
          "name": "stdout"
        },
        {
          "output_type": "execute_result",
          "data": {
            "text/plain": [
              "array([[ 63.00,  63.57,  64.14, ..., 5417.60, 5466.28, 5515.39],\n",
              "       [  0.00,  62.44,  63.00, ..., 5321.55, 5369.36, 5417.60],\n",
              "       [  0.00,   0.00,  61.88, ..., 5227.20, 5274.17, 5321.55],\n",
              "       ...,\n",
              "       [  0.00,   0.00,   0.00, ...,   0.73,   0.74,   0.75],\n",
              "       [  0.00,   0.00,   0.00, ...,   0.00,   0.73,   0.73],\n",
              "       [  0.00,   0.00,   0.00, ...,   0.00,   0.00,   0.72]],\n",
              "      dtype=float32)"
            ]
          },
          "metadata": {
            "tags": []
          },
          "execution_count": 56
        }
      ]
    },
    {
      "cell_type": "code",
      "metadata": {
        "id": "YYbJjTAa6Dlr",
        "colab_type": "code",
        "colab": {
          "base_uri": "https://localhost:8080/",
          "height": 34
        },
        "outputId": "e9ba97c8-e9c0-496f-a95f-ad25857b5807"
      },
      "source": [
        "%timeit S= simulate_tree_cy(500)"
      ],
      "execution_count": 55,
      "outputs": [
        {
          "output_type": "stream",
          "text": [
            "1000 loops, best of 3: 615 µs per loop\n"
          ],
          "name": "stdout"
        }
      ]
    },
    {
      "cell_type": "markdown",
      "metadata": {
        "id": "afii4EQC6qm6",
        "colab_type": "text"
      },
      "source": [
        "# **Monte Carlo Simulation**"
      ]
    },
    {
      "cell_type": "markdown",
      "metadata": {
        "id": "5LY7CsB36vCq",
        "colab_type": "text"
      },
      "source": [
        "> Monte Carlo simulation is an indispensable numerical tool in comutational finance. It has been in use since long before the advent of modern computers. Banks and other financial institutions use it, among others, for **pricing and risk management** purposes. As a numerical method it is perhaps, the most flexible and powerful one in finance. However, it often also is the most computationally demanding one. That is why python was long dismissed as proper programming language to implement algorithms based on Monte carlo simulation - at ;east for real-world application scenarios. This section analyzes the monte carlo simulation of the geometric Brownian motion, a simple yet still widely used stochastic process to model the evolution of stock prices or index levels. Among others, the Black-Scholes-Merton theory of option pricing draws on this process. In their setup the underlying of the option to be valued follows the stochastic differential equation(SDE). $S_t$ is the value of the underlying at time $t;r$ is the constant, riskless short rate: $\\sigma$ is the constant instantaneous volatiltiy; and $Z_t$ is Brownian motion. equation of **Black-Scholes_Merton SDE(geometric Brownian motion) Equation 1**\n",
        "\n",
        "**$dS_t=rS_t dt+ \\sigma S_tdZ_t$**\n",
        "\n",
        "> This SDE can be discretized over quidistant time intervals and simulated according to below equation which represents and **Euler Scheme**. In this case, z is a standard normally distributed random number. For M time intervals, the length of the time interval is given as $\\Delta t \\equiv \\frac{T}{M}$ where T is the time horizon for the simulation\n",
        "**Black-Scholes_Merton difference equation(Euler scheme) Equation 2**\n",
        "\n",
        "**$S_t = S_{t-\\Delta t} exp((r- \\frac{\\sigma^2}{2})\\Delta t+\\sigma\\sqrt{\\Delta t z}$**\n",
        "\n",
        "> The Monte Carlo estimator for a European call option is then given by below equation where $S_T(i)$ is the ith simulated value of the underlying at maturity T for a total number of simulated paths I with i = 1,2,....I.\n",
        "** Monte Carlo estimator for a European call option Equation 3**\n",
        "\n",
        "$C_0 = e^{-rT}\\frac{1}{I} \\displaystyle \\sum_I max(S_T(i)-K,0)$\n",
        "\n"
      ]
    },
    {
      "cell_type": "markdown",
      "metadata": {
        "id": "z2Q3S7zoAKpz",
        "colab_type": "text"
      },
      "source": [
        "## **Python**"
      ]
    },
    {
      "cell_type": "markdown",
      "metadata": {
        "id": "qIEu4ux4AW14",
        "colab_type": "text"
      },
      "source": [
        "> `mcs_simulation_py()`, that implements the monte carlo simulation according to **equation 2**. It is hybrid since it implements python loops on **ndarray** objects. As seen previously, this might make for a good basis to dynamically compile the code with **Numba**. As before, the execution time sets the benchmark. Based on the simulation, a European put option is valued."
      ]
    },
    {
      "cell_type": "code",
      "metadata": {
        "id": "le9zAyIJ6LsW",
        "colab_type": "code",
        "colab": {}
      },
      "source": [
        "M = 100\n",
        "I = 50000\n",
        "s0 = 36.\n",
        "def mcs_simulation_py(p):\n",
        "  M, I = p\n",
        "  dt = T/M\n",
        "  S = np.zeros((M+1,I))\n",
        "  S[0] = S0\n",
        "  rn = np.random.standard_normal(S.shape)\n",
        "  for t in range(1,M+1):\n",
        "    for i in range(I):\n",
        "      S[t,i] = S[t-1,i]*math.exp((r-sigma ** 2/2)*dt+sigma*math.sqrt(dt)*rn[t,i])\n",
        "  return S"
      ],
      "execution_count": 0,
      "outputs": []
    },
    {
      "cell_type": "code",
      "metadata": {
        "id": "7WWrPmdDB4rW",
        "colab_type": "code",
        "colab": {
          "base_uri": "https://localhost:8080/",
          "height": 51
        },
        "outputId": "37d40dff-517e-44c6-afa0-977371d47c72"
      },
      "source": [
        "%time S = mcs_simulation_py((M,I))"
      ],
      "execution_count": 60,
      "outputs": [
        {
          "output_type": "stream",
          "text": [
            "CPU times: user 6.71 s, sys: 0 ns, total: 6.71 s\n",
            "Wall time: 6.72 s\n"
          ],
          "name": "stdout"
        }
      ]
    },
    {
      "cell_type": "code",
      "metadata": {
        "id": "k4UbmgnfB9KV",
        "colab_type": "code",
        "colab": {
          "base_uri": "https://localhost:8080/",
          "height": 34
        },
        "outputId": "ac127f5d-2ee5-43fe-bf70-4b0bdd7fd921"
      },
      "source": [
        "S[-1].mean()"
      ],
      "execution_count": 62,
      "outputs": [
        {
          "output_type": "execute_result",
          "data": {
            "text/plain": [
              "38.23369289642214"
            ]
          },
          "metadata": {
            "tags": []
          },
          "execution_count": 62
        }
      ]
    },
    {
      "cell_type": "code",
      "metadata": {
        "id": "PVKR8B8NCGw-",
        "colab_type": "code",
        "colab": {
          "base_uri": "https://localhost:8080/",
          "height": 34
        },
        "outputId": "67d9300c-9dcc-41f6-93e6-08275b5ca3f6"
      },
      "source": [
        "S0 * math.exp(r*T)"
      ],
      "execution_count": 63,
      "outputs": [
        {
          "output_type": "execute_result",
          "data": {
            "text/plain": [
              "38.22611567563295"
            ]
          },
          "metadata": {
            "tags": []
          },
          "execution_count": 63
        }
      ]
    },
    {
      "cell_type": "code",
      "metadata": {
        "id": "zl_HkDSwCL05",
        "colab_type": "code",
        "colab": {}
      },
      "source": [
        "K = 40."
      ],
      "execution_count": 0,
      "outputs": []
    },
    {
      "cell_type": "code",
      "metadata": {
        "id": "hNmW2bmUCPE6",
        "colab_type": "code",
        "colab": {}
      },
      "source": [
        "C0 = math.exp(-r*T)*np.maximum(K-S[-1],0).mean()"
      ],
      "execution_count": 0,
      "outputs": []
    },
    {
      "cell_type": "code",
      "metadata": {
        "id": "LLSHgHj_Ca_r",
        "colab_type": "code",
        "colab": {
          "base_uri": "https://localhost:8080/",
          "height": 34
        },
        "outputId": "30309f73-e464-4a61-b3bf-31eca1f046e7"
      },
      "source": [
        "C0"
      ],
      "execution_count": 67,
      "outputs": [
        {
          "output_type": "execute_result",
          "data": {
            "text/plain": [
              "3.836405238617296"
            ]
          },
          "metadata": {
            "tags": []
          },
          "execution_count": 67
        }
      ]
    },
    {
      "cell_type": "markdown",
      "metadata": {
        "id": "aPc2oz-WCug7",
        "colab_type": "text"
      },
      "source": [
        "## **NumPy**"
      ]
    },
    {
      "cell_type": "code",
      "metadata": {
        "id": "XqoqFEe-CeQf",
        "colab_type": "code",
        "colab": {}
      },
      "source": [
        "def mcs_simulation_np(p):\n",
        "  M, I = p\n",
        "  dt = T/M\n",
        "  S = np.zeros((M+1,I))\n",
        "  S[0] = S0\n",
        "  rn = np.random.standard_normal(S.shape)\n",
        "  for t in range(1,M+1):\n",
        "    S[t] = S[t-1]*np.exp((r-sigma ** 2/2)*dt+sigma*math.sqrt(dt)*rn[t])\n",
        "  return S"
      ],
      "execution_count": 0,
      "outputs": []
    },
    {
      "cell_type": "code",
      "metadata": {
        "id": "kvW6izSjDIrF",
        "colab_type": "code",
        "colab": {
          "base_uri": "https://localhost:8080/",
          "height": 51
        },
        "outputId": "0a704f44-091c-4af0-b05f-85ca22686b1b"
      },
      "source": [
        "%time S = mcs_simulation_np((M,I))"
      ],
      "execution_count": 69,
      "outputs": [
        {
          "output_type": "stream",
          "text": [
            "CPU times: user 358 ms, sys: 0 ns, total: 358 ms\n",
            "Wall time: 364 ms\n"
          ],
          "name": "stdout"
        }
      ]
    },
    {
      "cell_type": "code",
      "metadata": {
        "id": "fGrtrvjqDMbF",
        "colab_type": "code",
        "colab": {
          "base_uri": "https://localhost:8080/",
          "height": 34
        },
        "outputId": "98f5bf3f-15bb-462b-c828-78db6e195967"
      },
      "source": [
        "S[-1].mean()"
      ],
      "execution_count": 70,
      "outputs": [
        {
          "output_type": "execute_result",
          "data": {
            "text/plain": [
              "38.21680195071824"
            ]
          },
          "metadata": {
            "tags": []
          },
          "execution_count": 70
        }
      ]
    },
    {
      "cell_type": "code",
      "metadata": {
        "id": "nNEjOs-wDOzF",
        "colab_type": "code",
        "colab": {
          "base_uri": "https://localhost:8080/",
          "height": 34
        },
        "outputId": "b6f4e839-c3ef-4826-cfc2-38d071a9994a"
      },
      "source": [
        "%timeit S = mcs_simulation_np((M,I))"
      ],
      "execution_count": 71,
      "outputs": [
        {
          "output_type": "stream",
          "text": [
            "1 loop, best of 3: 349 ms per loop\n"
          ],
          "name": "stdout"
        }
      ]
    },
    {
      "cell_type": "markdown",
      "metadata": {
        "id": "8HeRFT0kDVnl",
        "colab_type": "text"
      },
      "source": [
        "## **Numba**"
      ]
    },
    {
      "cell_type": "code",
      "metadata": {
        "id": "OgEEwtvhDURH",
        "colab_type": "code",
        "colab": {}
      },
      "source": [
        "mcs_simulation_nb = numba.jit(mcs_simulation_py)"
      ],
      "execution_count": 0,
      "outputs": []
    },
    {
      "cell_type": "code",
      "metadata": {
        "id": "IWkRhEajDd7y",
        "colab_type": "code",
        "colab": {
          "base_uri": "https://localhost:8080/",
          "height": 51
        },
        "outputId": "f79b3024-8dbb-4a07-a1c1-0fde98e78e98"
      },
      "source": [
        "%time S = mcs_simulation_np((M,I))"
      ],
      "execution_count": 75,
      "outputs": [
        {
          "output_type": "stream",
          "text": [
            "CPU times: user 358 ms, sys: 1.87 ms, total: 359 ms\n",
            "Wall time: 362 ms\n"
          ],
          "name": "stdout"
        }
      ]
    },
    {
      "cell_type": "code",
      "metadata": {
        "id": "RQdnDIvjDgtS",
        "colab_type": "code",
        "colab": {
          "base_uri": "https://localhost:8080/",
          "height": 34
        },
        "outputId": "73b6912b-6fca-4d6a-e2dd-063ed8803184"
      },
      "source": [
        "S[-1].mean()"
      ],
      "execution_count": 76,
      "outputs": [
        {
          "output_type": "execute_result",
          "data": {
            "text/plain": [
              "38.170621156549515"
            ]
          },
          "metadata": {
            "tags": []
          },
          "execution_count": 76
        }
      ]
    },
    {
      "cell_type": "code",
      "metadata": {
        "id": "Mp10yy6xDo8D",
        "colab_type": "code",
        "colab": {
          "base_uri": "https://localhost:8080/",
          "height": 34
        },
        "outputId": "71fae30a-28ee-426b-e629-513b66f5b63a"
      },
      "source": [
        "%timeit S = mcs_simulation_np((M,I))"
      ],
      "execution_count": 77,
      "outputs": [
        {
          "output_type": "stream",
          "text": [
            "1 loop, best of 3: 350 ms per loop\n"
          ],
          "name": "stdout"
        }
      ]
    },
    {
      "cell_type": "markdown",
      "metadata": {
        "id": "XS902F9RDtkT",
        "colab_type": "text"
      },
      "source": [
        "## **Cython**"
      ]
    },
    {
      "cell_type": "code",
      "metadata": {
        "id": "ZRX-HqlbDqKN",
        "colab_type": "code",
        "colab": {}
      },
      "source": [
        "%%cython\n",
        "import numpy as np\n",
        "cimport numpy as np\n",
        "cimport cython\n",
        "from libc.math cimport exp, sqrt\n",
        "cdef float S0= 63.\n",
        "cdef float T = 1.0 \n",
        "cdef float r = 0.06 \n",
        "cdef float sigma = 0.2 \n",
        "@cython.boundscheck(False)\n",
        "@cython.wraparound(False)\n",
        "def mcs_simulation_cy(p):\n",
        "  cdef int M,I\n",
        "  M, I = p\n",
        "  cdef int t,i\n",
        "  cdef float dt = T/M\n",
        "  cdef double[:,:] S = np.zeros((M+1,I))\n",
        "  cdef double[:,:] rn = np.random.standard_normal((M+1,I))\n",
        "  for t in range(1,M+1):\n",
        "    for i in range(I):\n",
        "      S[t,i] = S[t-1,i]*exp((r-sigma ** 2/2)*dt+sigma*sqrt(dt)*rn[t,i])\n",
        "  return np.array(S)"
      ],
      "execution_count": 0,
      "outputs": []
    },
    {
      "cell_type": "code",
      "metadata": {
        "id": "VPaTHaEYEsBX",
        "colab_type": "code",
        "colab": {
          "base_uri": "https://localhost:8080/",
          "height": 51
        },
        "outputId": "ae18cc5c-8555-48df-d6af-ca9fa54a1c55"
      },
      "source": [
        "%time S = mcs_simulation_cy((M,I))"
      ],
      "execution_count": 80,
      "outputs": [
        {
          "output_type": "stream",
          "text": [
            "CPU times: user 342 ms, sys: 1.85 ms, total: 344 ms\n",
            "Wall time: 348 ms\n"
          ],
          "name": "stdout"
        }
      ]
    },
    {
      "cell_type": "code",
      "metadata": {
        "id": "xCRfcR4UE42B",
        "colab_type": "code",
        "colab": {
          "base_uri": "https://localhost:8080/",
          "height": 34
        },
        "outputId": "0db4c796-e452-4813-b274-9dfd1d851a55"
      },
      "source": [
        "%timeit S = mcs_simulation_cy((M,I))"
      ],
      "execution_count": 81,
      "outputs": [
        {
          "output_type": "stream",
          "text": [
            "1 loop, best of 3: 340 ms per loop\n"
          ],
          "name": "stdout"
        }
      ]
    },
    {
      "cell_type": "markdown",
      "metadata": {
        "id": "umZrztwDFBmM",
        "colab_type": "text"
      },
      "source": [
        "## **Multiprocessing**"
      ]
    },
    {
      "cell_type": "code",
      "metadata": {
        "id": "HUdFwORgE8ny",
        "colab_type": "code",
        "colab": {}
      },
      "source": [
        "pool = mp.Pool(processes=4)"
      ],
      "execution_count": 0,
      "outputs": []
    },
    {
      "cell_type": "code",
      "metadata": {
        "id": "ysEMR5UdFNYd",
        "colab_type": "code",
        "colab": {}
      },
      "source": [
        "p = 20"
      ],
      "execution_count": 0,
      "outputs": []
    },
    {
      "cell_type": "code",
      "metadata": {
        "id": "EIvoeukwFOdB",
        "colab_type": "code",
        "colab": {
          "base_uri": "https://localhost:8080/",
          "height": 34
        },
        "outputId": "43a24339-53cc-4064-d32e-8afb4820e2f1"
      },
      "source": [
        "%timeit S = np.hstack(pool.map(mcs_simulation_np,p*[(M,int(I/p))]))"
      ],
      "execution_count": 85,
      "outputs": [
        {
          "output_type": "stream",
          "text": [
            "1 loop, best of 3: 315 ms per loop\n"
          ],
          "name": "stdout"
        }
      ]
    },
    {
      "cell_type": "code",
      "metadata": {
        "id": "2omHBd6VFcCw",
        "colab_type": "code",
        "colab": {
          "base_uri": "https://localhost:8080/",
          "height": 51
        },
        "outputId": "ab6f0589-e573-4d5e-e85c-5ade446cf889"
      },
      "source": [
        "%timeit S = np.hstack(pool.map(mcs_simulation_nb,p*[(M,int(I/p))]))"
      ],
      "execution_count": 86,
      "outputs": [
        {
          "output_type": "stream",
          "text": [
            "The slowest run took 5.20 times longer than the fastest. This could mean that an intermediate result is being cached.\n",
            "1 loop, best of 3: 336 ms per loop\n"
          ],
          "name": "stdout"
        }
      ]
    },
    {
      "cell_type": "code",
      "metadata": {
        "id": "IaQlgqiPFirb",
        "colab_type": "code",
        "colab": {
          "base_uri": "https://localhost:8080/",
          "height": 34
        },
        "outputId": "0aad3877-f84b-4a81-923a-5af6eea9053d"
      },
      "source": [
        "%timeit S = np.hstack(pool.map(mcs_simulation_cy,p*[(M,int(I/p))]))"
      ],
      "execution_count": 87,
      "outputs": [
        {
          "output_type": "stream",
          "text": [
            "1 loop, best of 3: 303 ms per loop\n"
          ],
          "name": "stdout"
        }
      ]
    },
    {
      "cell_type": "markdown",
      "metadata": {
        "id": "v-FPeFNKFr4v",
        "colab_type": "text"
      },
      "source": [
        "# **Recursive pandas Algorithm**"
      ]
    },
    {
      "cell_type": "markdown",
      "metadata": {
        "id": "saMoeLgKF5H7",
        "colab_type": "text"
      },
      "source": [
        "> While **pandas** allows for sophisticated vectorized operations on **DataFrame** objects, certain recursive algorithm are hard or impossible to vectorize, leaving the financial analyst with slowly executed python loops on **DataFrame** objects. The example that follow implement what is called the *exponentially weighted moving average (EWMA) in a simple form.\n",
        "**Exponentially weightedmoving average (EWMA)**\n",
        "\n",
        "$EWMA_0 = S_0$\n",
        "$EWMA_t = \\alpha . S_t + (1-\\alpha).EWMA_{t-1}, t \\in {1,....T}$\n",
        "\n",
        "> Although simple in nature and straightforward to implement, such an algorithm might lead to rather slow code."
      ]
    },
    {
      "cell_type": "markdown",
      "metadata": {
        "id": "Cg1fuZ3vHOJJ",
        "colab_type": "text"
      },
      "source": [
        "## **Python**"
      ]
    },
    {
      "cell_type": "code",
      "metadata": {
        "id": "-ZOeS41TFpX_",
        "colab_type": "code",
        "colab": {}
      },
      "source": [
        "sym = 'SPY'\n",
        "data = pd.DataFrame(pd.read_csv(files_path+'tr_eikon_eod_data.csv',index_col=0,parse_dates=True)[sym]).dropna()"
      ],
      "execution_count": 0,
      "outputs": []
    },
    {
      "cell_type": "code",
      "metadata": {
        "id": "8ijk78evIGso",
        "colab_type": "code",
        "colab": {}
      },
      "source": [
        "alpha = 0.25"
      ],
      "execution_count": 0,
      "outputs": []
    },
    {
      "cell_type": "code",
      "metadata": {
        "id": "Vj98z7QVIJWW",
        "colab_type": "code",
        "colab": {}
      },
      "source": [
        "data['EWMA'] = data[sym]"
      ],
      "execution_count": 0,
      "outputs": []
    },
    {
      "cell_type": "code",
      "metadata": {
        "id": "Q6QjKOS4INzv",
        "colab_type": "code",
        "colab": {
          "base_uri": "https://localhost:8080/",
          "height": 51
        },
        "outputId": "102c702e-c353-40f0-9ade-893633a69c7d"
      },
      "source": [
        "%%time\n",
        "for t in zip(data.index,data.index[1:]):\n",
        "  data.loc[t[1],'EWMA'] = (alpha*data.loc[t[1],sym]+(1-alpha)*data.loc[t[0],'EWMA'])"
      ],
      "execution_count": 93,
      "outputs": [
        {
          "output_type": "stream",
          "text": [
            "CPU times: user 709 ms, sys: 26 ms, total: 735 ms\n",
            "Wall time: 692 ms\n"
          ],
          "name": "stdout"
        }
      ]
    },
    {
      "cell_type": "code",
      "metadata": {
        "id": "mTJ9xbfjIk6e",
        "colab_type": "code",
        "colab": {
          "base_uri": "https://localhost:8080/",
          "height": 235
        },
        "outputId": "880c3876-7446-4890-8cbb-cf30df5eee8b"
      },
      "source": [
        "data.head()"
      ],
      "execution_count": 94,
      "outputs": [
        {
          "output_type": "execute_result",
          "data": {
            "text/html": [
              "<div>\n",
              "<style scoped>\n",
              "    .dataframe tbody tr th:only-of-type {\n",
              "        vertical-align: middle;\n",
              "    }\n",
              "\n",
              "    .dataframe tbody tr th {\n",
              "        vertical-align: top;\n",
              "    }\n",
              "\n",
              "    .dataframe thead th {\n",
              "        text-align: right;\n",
              "    }\n",
              "</style>\n",
              "<table border=\"1\" class=\"dataframe\">\n",
              "  <thead>\n",
              "    <tr style=\"text-align: right;\">\n",
              "      <th></th>\n",
              "      <th>SPY</th>\n",
              "      <th>EWMA</th>\n",
              "    </tr>\n",
              "    <tr>\n",
              "      <th>Date</th>\n",
              "      <th></th>\n",
              "      <th></th>\n",
              "    </tr>\n",
              "  </thead>\n",
              "  <tbody>\n",
              "    <tr>\n",
              "      <th>2010-01-04</th>\n",
              "      <td>113.33</td>\n",
              "      <td>113.330000</td>\n",
              "    </tr>\n",
              "    <tr>\n",
              "      <th>2010-01-05</th>\n",
              "      <td>113.63</td>\n",
              "      <td>113.405000</td>\n",
              "    </tr>\n",
              "    <tr>\n",
              "      <th>2010-01-06</th>\n",
              "      <td>113.71</td>\n",
              "      <td>113.481250</td>\n",
              "    </tr>\n",
              "    <tr>\n",
              "      <th>2010-01-07</th>\n",
              "      <td>114.19</td>\n",
              "      <td>113.658438</td>\n",
              "    </tr>\n",
              "    <tr>\n",
              "      <th>2010-01-08</th>\n",
              "      <td>114.57</td>\n",
              "      <td>113.886328</td>\n",
              "    </tr>\n",
              "  </tbody>\n",
              "</table>\n",
              "</div>"
            ],
            "text/plain": [
              "               SPY        EWMA\n",
              "Date                          \n",
              "2010-01-04  113.33  113.330000\n",
              "2010-01-05  113.63  113.405000\n",
              "2010-01-06  113.71  113.481250\n",
              "2010-01-07  114.19  113.658438\n",
              "2010-01-08  114.57  113.886328"
            ]
          },
          "metadata": {
            "tags": []
          },
          "execution_count": 94
        }
      ]
    },
    {
      "cell_type": "code",
      "metadata": {
        "id": "X-b9H5zkIuA6",
        "colab_type": "code",
        "colab": {
          "base_uri": "https://localhost:8080/",
          "height": 391
        },
        "outputId": "1e067870-be8f-4ee2-e6b6-3b16d540b59f"
      },
      "source": [
        "data[data.index > '2017-1-1'].plot(figsize=(10,6))"
      ],
      "execution_count": 95,
      "outputs": [
        {
          "output_type": "execute_result",
          "data": {
            "text/plain": [
              "<matplotlib.axes._subplots.AxesSubplot at 0x7fc5fd7ab630>"
            ]
          },
          "metadata": {
            "tags": []
          },
          "execution_count": 95
        },
        {
          "output_type": "display_data",
          "data": {
            "image/png": "[encoded data removed]",
            "text/plain": [
              "<Figure size 720x432 with 1 Axes>"
            ]
          },
          "metadata": {
            "tags": [],
            "needs_background": "light"
          }
        }
      ]
    },
    {
      "cell_type": "code",
      "metadata": {
        "id": "3K6UXX46I7J8",
        "colab_type": "code",
        "colab": {}
      },
      "source": [
        "def ewma_py(x,alpha):\n",
        "  y = np.zeros_like(x)\n",
        "  y[0] = x[0]\n",
        "  for i in range(1,len(x)):\n",
        "    y[i] = alpha * x[i] + (1-alpha)*y[i-1]\n",
        "  return y"
      ],
      "execution_count": 0,
      "outputs": []
    },
    {
      "cell_type": "code",
      "metadata": {
        "id": "6jE25D60JXbb",
        "colab_type": "code",
        "colab": {
          "base_uri": "https://localhost:8080/",
          "height": 51
        },
        "outputId": "7d59fe81-33d9-4e5b-a86b-709e6af523b6"
      },
      "source": [
        "%time data['EMWA_PY'] = ewma_py(data[sym],alpha)"
      ],
      "execution_count": 99,
      "outputs": [
        {
          "output_type": "stream",
          "text": [
            "CPU times: user 44.2 ms, sys: 1.81 ms, total: 46 ms\n",
            "Wall time: 49.1 ms\n"
          ],
          "name": "stdout"
        }
      ]
    },
    {
      "cell_type": "code",
      "metadata": {
        "id": "AzxWVV4NJkpo",
        "colab_type": "code",
        "colab": {
          "base_uri": "https://localhost:8080/",
          "height": 51
        },
        "outputId": "e0a08e8e-a100-4ce7-acaa-ff344eb56adc"
      },
      "source": [
        "%time data['EMWA_PY'] = ewma_py(data[sym].values,alpha)"
      ],
      "execution_count": 100,
      "outputs": [
        {
          "output_type": "stream",
          "text": [
            "CPU times: user 3.32 ms, sys: 0 ns, total: 3.32 ms\n",
            "Wall time: 3.51 ms\n"
          ],
          "name": "stdout"
        }
      ]
    },
    {
      "cell_type": "markdown",
      "metadata": {
        "id": "PCugBxFQJynm",
        "colab_type": "text"
      },
      "source": [
        "## **Numba**"
      ]
    },
    {
      "cell_type": "code",
      "metadata": {
        "id": "yNHXX3MBJrV6",
        "colab_type": "code",
        "colab": {}
      },
      "source": [
        "ewma_nb = numba.jit(ewma_py)"
      ],
      "execution_count": 0,
      "outputs": []
    },
    {
      "cell_type": "code",
      "metadata": {
        "id": "vjuJWCs2J4Fx",
        "colab_type": "code",
        "colab": {
          "base_uri": "https://localhost:8080/",
          "height": 51
        },
        "outputId": "6805dc73-531f-4346-ccfb-c6afd7e73653"
      },
      "source": [
        "%time data['EMWA_NB'] = ewma_py(data[sym],alpha)"
      ],
      "execution_count": 103,
      "outputs": [
        {
          "output_type": "stream",
          "text": [
            "CPU times: user 43 ms, sys: 1.08 ms, total: 44.1 ms\n",
            "Wall time: 44.2 ms\n"
          ],
          "name": "stdout"
        }
      ]
    },
    {
      "cell_type": "code",
      "metadata": {
        "id": "5bBRDJFfJ7Go",
        "colab_type": "code",
        "colab": {
          "base_uri": "https://localhost:8080/",
          "height": 34
        },
        "outputId": "b90c1de0-d139-4ce1-9b6a-445c3696eb71"
      },
      "source": [
        "%timeit data['EMWA_NB'] = ewma_py(data[sym],alpha)"
      ],
      "execution_count": 104,
      "outputs": [
        {
          "output_type": "stream",
          "text": [
            "10 loops, best of 3: 36.2 ms per loop\n"
          ],
          "name": "stdout"
        }
      ]
    },
    {
      "cell_type": "code",
      "metadata": {
        "id": "N1gtHSsoKCIN",
        "colab_type": "code",
        "colab": {
          "base_uri": "https://localhost:8080/",
          "height": 51
        },
        "outputId": "5d1b04f7-8a0a-42b6-a09a-7fbf59e183a4"
      },
      "source": [
        "%time data['EMWA_NB'] = ewma_py(data[sym].values,alpha)"
      ],
      "execution_count": 108,
      "outputs": [
        {
          "output_type": "stream",
          "text": [
            "CPU times: user 1.99 ms, sys: 0 ns, total: 1.99 ms\n",
            "Wall time: 1.94 ms\n"
          ],
          "name": "stdout"
        }
      ]
    },
    {
      "cell_type": "code",
      "metadata": {
        "id": "eCYZKNoiKGPa",
        "colab_type": "code",
        "colab": {
          "base_uri": "https://localhost:8080/",
          "height": 34
        },
        "outputId": "287c656e-b20d-47e6-c68b-1ce670d8ab01"
      },
      "source": [
        "%timeit data['EMWA_NB'] = ewma_py(data[sym].values,alpha)"
      ],
      "execution_count": 107,
      "outputs": [
        {
          "output_type": "stream",
          "text": [
            "1000 loops, best of 3: 1.58 ms per loop\n"
          ],
          "name": "stdout"
        }
      ]
    },
    {
      "cell_type": "markdown",
      "metadata": {
        "id": "5f5f5gFxKObd",
        "colab_type": "text"
      },
      "source": [
        "## **Cython**"
      ]
    },
    {
      "cell_type": "code",
      "metadata": {
        "id": "KLchk5ugKKNr",
        "colab_type": "code",
        "colab": {}
      },
      "source": [
        "%%cython\n",
        "import numpy as np\n",
        "cimport cython\n",
        "@cython.boundscheck(False)\n",
        "@cython.wraparound(False)\n",
        "def ewma_cy(double[:] x,float alpha):\n",
        "  cdef int i\n",
        "  cdef double[:] y  = np.empty_like(x)\n",
        "  y[0] = x[0]\n",
        "  for i in range(1,len(x)):\n",
        "    y[i] = alpha * x[i] + (1-alpha)*y[i-1]\n",
        "  return y"
      ],
      "execution_count": 0,
      "outputs": []
    },
    {
      "cell_type": "code",
      "metadata": {
        "id": "Ka4NQl_6Ku6w",
        "colab_type": "code",
        "colab": {
          "base_uri": "https://localhost:8080/",
          "height": 51
        },
        "outputId": "2d396483-c279-4168-80b2-0b72871bac9f"
      },
      "source": [
        "%time data['EMWA_CY'] = ewma_py(data[sym].values,alpha)"
      ],
      "execution_count": 110,
      "outputs": [
        {
          "output_type": "stream",
          "text": [
            "CPU times: user 5.05 ms, sys: 1 µs, total: 5.05 ms\n",
            "Wall time: 5.43 ms\n"
          ],
          "name": "stdout"
        }
      ]
    },
    {
      "cell_type": "code",
      "metadata": {
        "id": "3AJ3jOKFKzHu",
        "colab_type": "code",
        "colab": {
          "base_uri": "https://localhost:8080/",
          "height": 34
        },
        "outputId": "ff82fbd8-1acf-465c-ad54-376d90cc949a"
      },
      "source": [
        "%timeit data['EMWA_CY'] = ewma_py(data[sym].values,alpha)"
      ],
      "execution_count": 111,
      "outputs": [
        {
          "output_type": "stream",
          "text": [
            "1000 loops, best of 3: 1.63 ms per loop\n"
          ],
          "name": "stdout"
        }
      ]
    }
  ]
}